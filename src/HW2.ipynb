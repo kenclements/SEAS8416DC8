{
 "cells": [
  {
   "cell_type": "markdown",
   "id": "ae6810b7",
   "metadata": {},
   "source": [
    "1.  Develop a function that takes as input: String: planet, Float: weight in pounds of object on Earth.  Returns float: kilos of object on that planet\n"
   ]
  },
  {
   "cell_type": "code",
   "execution_count": null,
   "id": "0f8c142b",
   "metadata": {},
   "outputs": [],
   "source": [
    "LB_2_KG = 0.45359237\n",
    "\n",
    "def weight_planets(**anything):\n",
    "    earth_lbs = anything.get('earth_lbs', 0)\n",
    "    planet = anything.get('planet', 'Earth')\n",
    "    conversion_table= {\n",
    "        'Earth': 1,\n",
    "        'Sun': 27.01,\n",
    "        'Mercury': 0.38,\n",
    "        'Venus': 0.91,\n",
    "        'Moon': 0.166,\n",
    "        'Mars': 0.38,\n",
    "        'Jupiter': 2.34,\n",
    "        'Saturn': 1.06,\n",
    "        'Uranus': 0.92,\n",
    "        'Neptune': 1.19,\n",
    "        'Pluto': 0.6\n",
    "    }\n",
    "    return earth_lbs * conversion_table.get(planet, 1)"
   ]
  },
  {
   "cell_type": "code",
   "execution_count": null,
   "id": "0e6d8828",
   "metadata": {},
   "outputs": [],
   "source": [
    "weight_planets(earth_lbs=150, planet='Saturn')"
   ]
  },
  {
   "cell_type": "code",
   "execution_count": null,
   "id": "253b7f58",
   "metadata": {},
   "outputs": [],
   "source": [
    "weight_on_jupiter = weight_planets('Jupiter', 150)"
   ]
  },
  {
   "cell_type": "code",
   "execution_count": null,
   "id": "68ba280f",
   "metadata": {},
   "outputs": [],
   "source": [
    "print(weight_on_jupiter)"
   ]
  },
  {
   "cell_type": "code",
   "execution_count": null,
   "id": "3d71d507",
   "metadata": {},
   "outputs": [],
   "source": []
  },
  {
   "cell_type": "code",
   "execution_count": null,
   "id": "e3e0240f",
   "metadata": {},
   "outputs": [],
   "source": []
  },
  {
   "cell_type": "code",
   "execution_count": null,
   "id": "3e6c952f",
   "metadata": {},
   "outputs": [],
   "source": []
  },
  {
   "cell_type": "markdown",
   "id": "656d0849",
   "metadata": {},
   "source": [
    "2. Create a class named Product with the following attributes:\n",
    "name: The name of the product (string).\n",
    "price: The price of the product (float).\n",
    "quantity: The quantity of the product in stock (integer).\n",
    "The class should also have the following methods:\n",
    "__init__(self, name, price, quantity): A constructor that initializes the attributes.\n",
    "restock(self, amount): This method should increase the quantity of the product by the given amount.\n",
    "sell(self, amount): This method should decrease the quantity by the given amount if there is enough stock. If not, it should print a message indicating insufficient stock.\n",
    "__str__(self): This method should return a string representation of the product, including its name, price, and quantity."
   ]
  },
  {
   "cell_type": "code",
   "execution_count": null,
   "id": "1d6ec564",
   "metadata": {},
   "outputs": [],
   "source": [
    "class Product:\n",
    "    '''\n",
    "    Represents a product with name, price, and quantity in stock.\n",
    "    '''\n",
    "    def __init__(self, name: str, price: float, quantity: int):\n",
    "        self.name = name\n",
    "        self.price = price\n",
    "        self.quantity = quantity\n",
    "\n",
    "    def restock(self, amount: int):\n",
    "        self.quantity += amount\n",
    "\n",
    "    def sell(self, amount: int):\n",
    "        if amount <= self.quantity:\n",
    "            self.quantity -= amount\n",
    "        else:\n",
    "            print(f\"Insufficient stock to sell {amount} units of {self.name}\")\n",
    "\n",
    "    def __str__(self):\n",
    "        return f\"Product: {self.name}, Price: ${self.price}, Quantity: {self.quantity}\""
   ]
  },
  {
   "cell_type": "code",
   "execution_count": null,
   "id": "128ef92f",
   "metadata": {},
   "outputs": [],
   "source": [
    "int(2.7)"
   ]
  },
  {
   "cell_type": "code",
   "execution_count": null,
   "id": "1c518d9f",
   "metadata": {},
   "outputs": [],
   "source": [
    "rows = 20\n",
    "for i in range(1, rows + 1, 2):\n",
    "  print((int((rows - i) / 2) * \" \") + (i * \"o\"))"
   ]
  },
  {
   "cell_type": "code",
   "execution_count": null,
   "id": "83822d57",
   "metadata": {},
   "outputs": [],
   "source": [
    "rows = 20\n",
    "for i in range(1, rows + 1, 2):\n",
    "    #print((int((rows - i) / 2) * \" \") + (i * \"o\"))\n",
    "    print(\"o\" * i)\n"
   ]
  },
  {
   "cell_type": "code",
   "execution_count": null,
   "id": "9666bfd4",
   "metadata": {},
   "outputs": [],
   "source": [
    "rows = 20\n",
    "for i in range(1, rows + 1, 2):\n",
    "    #print((int((rows - i) / 2) * \" \") + (i * \"o\"))\n",
    "    print(\"o\" * (rows - i))"
   ]
  },
  {
   "cell_type": "code",
   "execution_count": 1,
   "id": "74ad7dcb",
   "metadata": {},
   "outputs": [
    {
     "ename": "NameError",
     "evalue": "name 'rows' is not defined",
     "output_type": "error",
     "traceback": [
      "\u001b[31m---------------------------------------------------------------------------\u001b[39m",
      "\u001b[31mNameError\u001b[39m                                 Traceback (most recent call last)",
      "\u001b[36mCell\u001b[39m\u001b[36m \u001b[39m\u001b[32mIn[1]\u001b[39m\u001b[32m, line 2\u001b[39m\n\u001b[32m      1\u001b[39m ROWS = \u001b[32m20\u001b[39m\n\u001b[32m----> \u001b[39m\u001b[32m2\u001b[39m \u001b[38;5;28;01mfor\u001b[39;00m i \u001b[38;5;129;01min\u001b[39;00m \u001b[38;5;28mrange\u001b[39m(\u001b[32m19\u001b[39m , \u001b[43mrows\u001b[49m == \u001b[32m0\u001b[39m, -\u001b[32m2\u001b[39m):\n\u001b[32m      3\u001b[39m     \u001b[38;5;28mprint\u001b[39m((\u001b[38;5;28mint\u001b[39m((rows - i) / \u001b[32m2\u001b[39m) * \u001b[33m\"\u001b[39m\u001b[33m \u001b[39m\u001b[33m\"\u001b[39m) + (i * \u001b[33m\"\u001b[39m\u001b[33mo\u001b[39m\u001b[33m\"\u001b[39m))\n\u001b[32m      4\u001b[39m     \u001b[38;5;66;03m# print((\" \" * int((i - 1) / 2)) + (\"o\" * (rows - i)))\u001b[39;00m\n",
      "\u001b[31mNameError\u001b[39m: name 'rows' is not defined"
     ]
    }
   ],
   "source": [
    "ROWS = 20\n",
    "for i in range(19 , rows == 0, -2):\n",
    "    print((int((rows - i) / 2) * \" \") + (i * \"o\"))\n",
    "    # print((\" \" * int((i - 1) / 2)) + (\"o\" * (rows - i)))\n"
   ]
  },
  {
   "cell_type": "code",
   "execution_count": 2,
   "id": "61246f6c",
   "metadata": {},
   "outputs": [],
   "source": [
    "del(ROWS)"
   ]
  },
  {
   "cell_type": "code",
   "execution_count": null,
   "id": "3bb74fcc",
   "metadata": {},
   "outputs": [],
   "source": [
    "def div_with_error_check(a: int, b: int) -> float:\n",
    "    try:\n",
    "        result = a / b\n",
    "    except ZeroDivisionError:\n",
    "        b = input(\"B is a zero.  Enter a new value: \")\n",
    "        \n",
    "        return \"Error: Division by zero.  Go back to school.\"\n",
    "    except TypeError:\n",
    "        return \"Error: Invalid input type.  Learn to follow insrtuctions.\"\n",
    "    except Exception as e:\n",
    "        return f\"Error: {str(e)}.  What are you doing?\"\n",
    "    return result"
   ]
  },
  {
   "cell_type": "code",
   "execution_count": 7,
   "id": "88feb03a",
   "metadata": {},
   "outputs": [
    {
     "data": {
      "text/plain": [
       "'Error: Invalid input type.  Learn to follow insrtuctions.'"
      ]
     },
     "execution_count": 7,
     "metadata": {},
     "output_type": "execute_result"
    }
   ],
   "source": [
    "div_with_error_check('Awdfjh', 0)"
   ]
  },
  {
   "cell_type": "code",
   "execution_count": null,
   "id": "cb4d1695",
   "metadata": {},
   "outputs": [],
   "source": []
  }
 ],
 "metadata": {
  "kernelspec": {
   "display_name": ".venv",
   "language": "python",
   "name": "python3"
  },
  "language_info": {
   "codemirror_mode": {
    "name": "ipython",
    "version": 3
   },
   "file_extension": ".py",
   "mimetype": "text/x-python",
   "name": "python",
   "nbconvert_exporter": "python",
   "pygments_lexer": "ipython3",
   "version": "3.12.9"
  }
 },
 "nbformat": 4,
 "nbformat_minor": 5
}
