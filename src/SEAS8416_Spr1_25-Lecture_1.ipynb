{
  "cells": [
    {
      "cell_type": "markdown",
      "metadata": {
        "id": "vAFWT7scIC5f"
      },
      "source": [
        "![Monogram_250x186.png](data:image/png;base64,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)"
      ]
    },
    {
      "cell_type": "code",
      "execution_count": null,
      "metadata": {
        "id": "n1OAtW_GSpcW"
      },
      "outputs": [],
      "source": [
        "# Author:  Dr K Clements\n",
        "# email: kenclements@gwu.edu\n",
        "# Created Date: 8/8/2024\n",
        "# Last Modified: 3/29/2025"
      ]
    },
    {
      "cell_type": "markdown",
      "metadata": {
        "id": "3CL4aqY4dPNG"
      },
      "source": [
        "### **SEAS 6414 Lecture 1 Notebook**"
      ]
    },
    {
      "cell_type": "markdown",
      "metadata": {
        "id": "7SMSG3xlOjIP"
      },
      "source": [
        "\n",
        "\n",
        "1.   Setup\n",
        "2.   Variables\n",
        "3.   Input Output and String immutibles\n",
        "4.   Math\n",
        "5.   Data Collection Types\n",
        "6.   Conditionals\n",
        "7.   Functions and Object Oriented Programming\n",
        "8.   Loading Data\n",
        "\n",
        "\n",
        "\n",
        "\n",
        "\n"
      ]
    },
    {
      "cell_type": "markdown",
      "metadata": {
        "id": "zdvD43SydTgh"
      },
      "source": [
        "### ***System Setup***"
      ]
    },
    {
      "cell_type": "markdown",
      "metadata": {
        "id": "yNca3MCaLzlk"
      },
      "source": [
        "Loading modules will frequently be the first thing done in a notebook... along with comments"
      ]
    },
    {
      "cell_type": "code",
      "execution_count": 116,
      "metadata": {},
      "outputs": [
        {
          "name": "stdout",
          "output_type": "stream",
          "text": [
            "Requirement already satisfied: pandas in c:\\users\\cleme\\code\\seas8416dc8\\.venv\\lib\\site-packages (2.2.3)\n",
            "Requirement already satisfied: numpy>=1.26.0 in c:\\users\\cleme\\code\\seas8416dc8\\.venv\\lib\\site-packages (from pandas) (2.2.4)\n",
            "Requirement already satisfied: python-dateutil>=2.8.2 in c:\\users\\cleme\\code\\seas8416dc8\\.venv\\lib\\site-packages (from pandas) (2.9.0.post0)\n",
            "Requirement already satisfied: pytz>=2020.1 in c:\\users\\cleme\\code\\seas8416dc8\\.venv\\lib\\site-packages (from pandas) (2025.2)\n",
            "Requirement already satisfied: tzdata>=2022.7 in c:\\users\\cleme\\code\\seas8416dc8\\.venv\\lib\\site-packages (from pandas) (2025.2)\n",
            "Requirement already satisfied: six>=1.5 in c:\\users\\cleme\\code\\seas8416dc8\\.venv\\lib\\site-packages (from python-dateutil>=2.8.2->pandas) (1.17.0)\n",
            "Note: you may need to restart the kernel to use updated packages.\n",
            "Requirement already satisfied: numpy in c:\\users\\cleme\\code\\seas8416dc8\\.venv\\lib\\site-packages (2.2.4)\n",
            "Note: you may need to restart the kernel to use updated packages.\n",
            "Requirement already satisfied: scikit-learn in c:\\users\\cleme\\code\\seas8416dc8\\.venv\\lib\\site-packages (1.6.1)\n",
            "Requirement already satisfied: numpy>=1.19.5 in c:\\users\\cleme\\code\\seas8416dc8\\.venv\\lib\\site-packages (from scikit-learn) (2.2.4)\n",
            "Requirement already satisfied: scipy>=1.6.0 in c:\\users\\cleme\\code\\seas8416dc8\\.venv\\lib\\site-packages (from scikit-learn) (1.15.2)\n",
            "Requirement already satisfied: joblib>=1.2.0 in c:\\users\\cleme\\code\\seas8416dc8\\.venv\\lib\\site-packages (from scikit-learn) (1.4.2)\n",
            "Requirement already satisfied: threadpoolctl>=3.1.0 in c:\\users\\cleme\\code\\seas8416dc8\\.venv\\lib\\site-packages (from scikit-learn) (3.6.0)\n",
            "Note: you may need to restart the kernel to use updated packages.\n"
          ]
        }
      ],
      "source": [
        "# Install required packages\n",
        "# This is a Jupyter Notebook cell, so use %pip for installation\n",
        "\n",
        "# %pip install pandas\n",
        "# %pip install numpy\n",
        "# %pip install scikit-learn"
      ]
    },
    {
      "cell_type": "code",
      "execution_count": 3,
      "metadata": {
        "id": "G0DJG4GQIXH-"
      },
      "outputs": [],
      "source": [
        "# Importing required libraries.  You import \"as\" to give a shorter name to the library\n",
        "import numpy as np #For numerical operations\n",
        "import pandas as pd #Will be using dataframes for data operations"
      ]
    },
    {
      "cell_type": "markdown",
      "metadata": {
        "id": "f7XZu_1IL88E"
      },
      "source": [
        "In addition to IDE completion and documentation, there are methods to get help on a libraries methods and functions"
      ]
    },
    {
      "cell_type": "code",
      "execution_count": 118,
      "metadata": {
        "colab": {
          "base_uri": "https://localhost:8080/"
        },
        "id": "qc7nScwLIQRp",
        "outputId": "64f8164e-ca60-4a9e-a228-a6d1a1a01ede"
      },
      "outputs": [
        {
          "data": {
            "text/plain": [
              "['ArrowDtype',\n",
              " 'BooleanDtype',\n",
              " 'Categorical',\n",
              " 'CategoricalDtype',\n",
              " 'CategoricalIndex',\n",
              " 'DataFrame',\n",
              " 'DateOffset',\n",
              " 'DatetimeIndex',\n",
              " 'DatetimeTZDtype',\n",
              " 'ExcelFile',\n",
              " 'ExcelWriter',\n",
              " 'Flags',\n",
              " 'Float32Dtype',\n",
              " 'Float64Dtype',\n",
              " 'Grouper',\n",
              " 'HDFStore',\n",
              " 'Index',\n",
              " 'IndexSlice',\n",
              " 'Int16Dtype',\n",
              " 'Int32Dtype',\n",
              " 'Int64Dtype',\n",
              " 'Int8Dtype',\n",
              " 'Interval',\n",
              " 'IntervalDtype',\n",
              " 'IntervalIndex',\n",
              " 'MultiIndex',\n",
              " 'NA',\n",
              " 'NaT',\n",
              " 'NamedAgg',\n",
              " 'Period',\n",
              " 'PeriodDtype',\n",
              " 'PeriodIndex',\n",
              " 'RangeIndex',\n",
              " 'Series',\n",
              " 'SparseDtype',\n",
              " 'StringDtype',\n",
              " 'Timedelta',\n",
              " 'TimedeltaIndex',\n",
              " 'Timestamp',\n",
              " 'UInt16Dtype',\n",
              " 'UInt32Dtype',\n",
              " 'UInt64Dtype',\n",
              " 'UInt8Dtype',\n",
              " '__all__',\n",
              " '__builtins__',\n",
              " '__cached__',\n",
              " '__doc__',\n",
              " '__docformat__',\n",
              " '__file__',\n",
              " '__git_version__',\n",
              " '__loader__',\n",
              " '__name__',\n",
              " '__package__',\n",
              " '__path__',\n",
              " '__spec__',\n",
              " '__version__',\n",
              " '_built_with_meson',\n",
              " '_config',\n",
              " '_is_numpy_dev',\n",
              " '_libs',\n",
              " '_pandas_datetime_CAPI',\n",
              " '_pandas_parser_CAPI',\n",
              " '_testing',\n",
              " '_typing',\n",
              " '_version_meson',\n",
              " 'annotations',\n",
              " 'api',\n",
              " 'array',\n",
              " 'arrays',\n",
              " 'bdate_range',\n",
              " 'compat',\n",
              " 'concat',\n",
              " 'core',\n",
              " 'crosstab',\n",
              " 'cut',\n",
              " 'date_range',\n",
              " 'describe_option',\n",
              " 'errors',\n",
              " 'eval',\n",
              " 'factorize',\n",
              " 'from_dummies',\n",
              " 'get_dummies',\n",
              " 'get_option',\n",
              " 'infer_freq',\n",
              " 'interval_range',\n",
              " 'io',\n",
              " 'isna',\n",
              " 'isnull',\n",
              " 'json_normalize',\n",
              " 'lreshape',\n",
              " 'melt',\n",
              " 'merge',\n",
              " 'merge_asof',\n",
              " 'merge_ordered',\n",
              " 'notna',\n",
              " 'notnull',\n",
              " 'offsets',\n",
              " 'option_context',\n",
              " 'options',\n",
              " 'pandas',\n",
              " 'period_range',\n",
              " 'pivot',\n",
              " 'pivot_table',\n",
              " 'plotting',\n",
              " 'qcut',\n",
              " 'read_clipboard',\n",
              " 'read_csv',\n",
              " 'read_excel',\n",
              " 'read_feather',\n",
              " 'read_fwf',\n",
              " 'read_gbq',\n",
              " 'read_hdf',\n",
              " 'read_html',\n",
              " 'read_json',\n",
              " 'read_orc',\n",
              " 'read_parquet',\n",
              " 'read_pickle',\n",
              " 'read_sas',\n",
              " 'read_spss',\n",
              " 'read_sql',\n",
              " 'read_sql_query',\n",
              " 'read_sql_table',\n",
              " 'read_stata',\n",
              " 'read_table',\n",
              " 'read_xml',\n",
              " 'reset_option',\n",
              " 'set_eng_float_format',\n",
              " 'set_option',\n",
              " 'show_versions',\n",
              " 'test',\n",
              " 'testing',\n",
              " 'timedelta_range',\n",
              " 'to_datetime',\n",
              " 'to_numeric',\n",
              " 'to_pickle',\n",
              " 'to_timedelta',\n",
              " 'tseries',\n",
              " 'unique',\n",
              " 'util',\n",
              " 'value_counts',\n",
              " 'wide_to_long']"
            ]
          },
          "execution_count": 118,
          "metadata": {},
          "output_type": "execute_result"
        }
      ],
      "source": [
        "# List all the methods and functions in the pandas library\n",
        "# The IDE will show you the list of functions and methods available in the pandas \n",
        "#   library which is more convinient than looking it up in the documentation\n",
        "\n",
        "dir(pd)"
      ]
    },
    {
      "cell_type": "code",
      "execution_count": 1,
      "metadata": {
        "colab": {
          "base_uri": "https://localhost:8080/"
        },
        "id": "AfQhbEuFNMZ1",
        "outputId": "7a61f93c-5765-46ec-f446-3f99b0482629"
      },
      "outputs": [
        {
          "name": "stdout",
          "output_type": "stream",
          "text": [
            "Welcome to Python 3.12's help utility! If this is your first time using\n",
            "Python, you should definitely check out the tutorial at\n",
            "https://docs.python.org/3.12/tutorial/.\n",
            "\n",
            "Enter the name of any module, keyword, or topic to get help on writing\n",
            "Python programs and using Python modules.  To get a list of available\n",
            "modules, keywords, symbols, or topics, enter \"modules\", \"keywords\",\n",
            "\"symbols\", or \"topics\".\n",
            "\n",
            "Each module also comes with a one-line summary of what it does; to list\n",
            "the modules whose name or summary contain a given string such as \"spam\",\n",
            "enter \"modules spam\".\n",
            "\n",
            "To quit this help utility and return to the interpreter,\n",
            "enter \"q\" or \"quit\".\n",
            "\n",
            "No Python documentation found for 'pd'.\n",
            "Use help() to get the interactive help utility.\n",
            "Use help(str) for help on the str class.\n",
            "\n",
            "Class definitions\n",
            "*****************\n",
            "\n",
            "A class definition defines a class object (see section The standard\n",
            "type hierarchy):\n",
            "\n",
            "   classdef    ::= [decorators] \"class\" classname [type_params] [inheritance] \":\" suite\n",
            "   inheritance ::= \"(\" [argument_list] \")\"\n",
            "   classname   ::= identifier\n",
            "\n",
            "A class definition is an executable statement.  The inheritance list\n",
            "usually gives a list of base classes (see Metaclasses for more\n",
            "advanced uses), so each item in the list should evaluate to a class\n",
            "object which allows subclassing.  Classes without an inheritance list\n",
            "inherit, by default, from the base class \"object\"; hence,\n",
            "\n",
            "   class Foo:\n",
            "       pass\n",
            "\n",
            "is equivalent to\n",
            "\n",
            "   class Foo(object):\n",
            "       pass\n",
            "\n",
            "The class’s suite is then executed in a new execution frame (see\n",
            "Naming and binding), using a newly created local namespace and the\n",
            "original global namespace. (Usually, the suite contains mostly\n",
            "function definitions.)  When the class’s suite finishes execution, its\n",
            "execution frame is discarded but its local namespace is saved. [5] A\n",
            "class object is then created using the inheritance list for the base\n",
            "classes and the saved local namespace for the attribute dictionary.\n",
            "The class name is bound to this class object in the original local\n",
            "namespace.\n",
            "\n",
            "The order in which attributes are defined in the class body is\n",
            "preserved in the new class’s \"__dict__\".  Note that this is reliable\n",
            "only right after the class is created and only for classes that were\n",
            "defined using the definition syntax.\n",
            "\n",
            "Class creation can be customized heavily using metaclasses.\n",
            "\n",
            "Classes can also be decorated: just like when decorating functions,\n",
            "\n",
            "   @f1(arg)\n",
            "   @f2\n",
            "   class Foo: pass\n",
            "\n",
            "is roughly equivalent to\n",
            "\n",
            "   class Foo: pass\n",
            "   Foo = f1(arg)(f2(Foo))\n",
            "\n",
            "The evaluation rules for the decorator expressions are the same as for\n",
            "function decorators.  The result is then bound to the class name.\n",
            "\n",
            "Changed in version 3.9: Classes may be decorated with any valid\n",
            "\"assignment_expression\". Previously, the grammar was much more\n",
            "restrictive; see **PEP 614** for details.\n",
            "\n",
            "A list of type parameters may be given in square brackets immediately\n",
            "after the class’s name. This indicates to static type checkers that\n",
            "the class is generic. At runtime, the type parameters can be retrieved\n",
            "from the class’s \"__type_params__\" attribute. See Generic classes for\n",
            "more.\n",
            "\n",
            "Changed in version 3.12: Type parameter lists are new in Python 3.12.\n",
            "\n",
            "**Programmer’s note:** Variables defined in the class definition are\n",
            "class attributes; they are shared by instances.  Instance attributes\n",
            "can be set in a method with \"self.name = value\".  Both class and\n",
            "instance attributes are accessible through the notation “\"self.name\"”,\n",
            "and an instance attribute hides a class attribute with the same name\n",
            "when accessed in this way.  Class attributes can be used as defaults\n",
            "for instance attributes, but using mutable values there can lead to\n",
            "unexpected results.  Descriptors can be used to create instance\n",
            "variables with different implementation details.\n",
            "\n",
            "See also:\n",
            "\n",
            "  **PEP 3115** - Metaclasses in Python 3000\n",
            "     The proposal that changed the declaration of metaclasses to the\n",
            "     current syntax, and the semantics for how classes with\n",
            "     metaclasses are constructed.\n",
            "\n",
            "  **PEP 3129** - Class Decorators\n",
            "     The proposal that added class decorators.  Function and method\n",
            "     decorators were introduced in **PEP 318**.\n",
            "\n",
            "Related help topics: CLASSES, SPECIALMETHODS\n",
            "\n",
            "\n",
            "You are now leaving help and returning to the Python interpreter.\n",
            "If you want to ask for help on a particular object directly from the\n",
            "interpreter, you can type \"help(object)\".  Executing \"help('string')\"\n",
            "has the same effect as typing a particular string at the help> prompt.\n"
          ]
        }
      ],
      "source": [
        "# General help function where you can input the name of the function or method you want help with\n",
        "# The help function will show you the docstring for the function or method\n",
        "help()"
      ]
    },
    {
      "cell_type": "code",
      "execution_count": 4,
      "metadata": {
        "colab": {
          "base_uri": "https://localhost:8080/"
        },
        "id": "un5qK8weNm3P",
        "outputId": "b780a078-14b6-4d1f-c2b3-08ddaaf13759"
      },
      "outputs": [
        {
          "name": "stdout",
          "output_type": "stream",
          "text": [
            "Help on function copy in module pandas.core.generic:\n",
            "\n",
            "copy(self, deep: 'bool_t | None' = True) -> 'Self'\n",
            "    Make a copy of this object's indices and data.\n",
            "\n",
            "    When ``deep=True`` (default), a new object will be created with a\n",
            "    copy of the calling object's data and indices. Modifications to\n",
            "    the data or indices of the copy will not be reflected in the\n",
            "    original object (see notes below).\n",
            "\n",
            "    When ``deep=False``, a new object will be created without copying\n",
            "    the calling object's data or index (only references to the data\n",
            "    and index are copied). Any changes to the data of the original\n",
            "    will be reflected in the shallow copy (and vice versa).\n",
            "\n",
            "    .. note::\n",
            "        The ``deep=False`` behaviour as described above will change\n",
            "        in pandas 3.0. `Copy-on-Write\n",
            "        <https://pandas.pydata.org/docs/dev/user_guide/copy_on_write.html>`__\n",
            "        will be enabled by default, which means that the \"shallow\" copy\n",
            "        is that is returned with ``deep=False`` will still avoid making\n",
            "        an eager copy, but changes to the data of the original will *no*\n",
            "        longer be reflected in the shallow copy (or vice versa). Instead,\n",
            "        it makes use of a lazy (deferred) copy mechanism that will copy\n",
            "        the data only when any changes to the original or shallow copy is\n",
            "        made.\n",
            "\n",
            "        You can already get the future behavior and improvements through\n",
            "        enabling copy on write ``pd.options.mode.copy_on_write = True``\n",
            "\n",
            "    Parameters\n",
            "    ----------\n",
            "    deep : bool, default True\n",
            "        Make a deep copy, including a copy of the data and the indices.\n",
            "        With ``deep=False`` neither the indices nor the data are copied.\n",
            "\n",
            "    Returns\n",
            "    -------\n",
            "    Series or DataFrame\n",
            "        Object type matches caller.\n",
            "\n",
            "    Notes\n",
            "    -----\n",
            "    When ``deep=True``, data is copied but actual Python objects\n",
            "    will not be copied recursively, only the reference to the object.\n",
            "    This is in contrast to `copy.deepcopy` in the Standard Library,\n",
            "    which recursively copies object data (see examples below).\n",
            "\n",
            "    While ``Index`` objects are copied when ``deep=True``, the underlying\n",
            "    numpy array is not copied for performance reasons. Since ``Index`` is\n",
            "    immutable, the underlying data can be safely shared and a copy\n",
            "    is not needed.\n",
            "\n",
            "    Since pandas is not thread safe, see the\n",
            "    :ref:`gotchas <gotchas.thread-safety>` when copying in a threading\n",
            "    environment.\n",
            "\n",
            "    When ``copy_on_write`` in pandas config is set to ``True``, the\n",
            "    ``copy_on_write`` config takes effect even when ``deep=False``.\n",
            "    This means that any changes to the copied data would make a new copy\n",
            "    of the data upon write (and vice versa). Changes made to either the\n",
            "    original or copied variable would not be reflected in the counterpart.\n",
            "    See :ref:`Copy_on_Write <copy_on_write>` for more information.\n",
            "\n",
            "    Examples\n",
            "    --------\n",
            "    >>> s = pd.Series([1, 2], index=[\"a\", \"b\"])\n",
            "    >>> s\n",
            "    a    1\n",
            "    b    2\n",
            "    dtype: int64\n",
            "\n",
            "    >>> s_copy = s.copy()\n",
            "    >>> s_copy\n",
            "    a    1\n",
            "    b    2\n",
            "    dtype: int64\n",
            "\n",
            "    **Shallow copy versus default (deep) copy:**\n",
            "\n",
            "    >>> s = pd.Series([1, 2], index=[\"a\", \"b\"])\n",
            "    >>> deep = s.copy()\n",
            "    >>> shallow = s.copy(deep=False)\n",
            "\n",
            "    Shallow copy shares data and index with original.\n",
            "\n",
            "    >>> s is shallow\n",
            "    False\n",
            "    >>> s.values is shallow.values and s.index is shallow.index\n",
            "    True\n",
            "\n",
            "    Deep copy has own copy of data and index.\n",
            "\n",
            "    >>> s is deep\n",
            "    False\n",
            "    >>> s.values is deep.values or s.index is deep.index\n",
            "    False\n",
            "\n",
            "    Updates to the data shared by shallow copy and original is reflected\n",
            "    in both (NOTE: this will no longer be true for pandas >= 3.0);\n",
            "    deep copy remains unchanged.\n",
            "\n",
            "    >>> s.iloc[0] = 3\n",
            "    >>> shallow.iloc[1] = 4\n",
            "    >>> s\n",
            "    a    3\n",
            "    b    4\n",
            "    dtype: int64\n",
            "    >>> shallow\n",
            "    a    3\n",
            "    b    4\n",
            "    dtype: int64\n",
            "    >>> deep\n",
            "    a    1\n",
            "    b    2\n",
            "    dtype: int64\n",
            "\n",
            "    Note that when copying an object containing Python objects, a deep copy\n",
            "    will copy the data, but will not do so recursively. Updating a nested\n",
            "    data object will be reflected in the deep copy.\n",
            "\n",
            "    >>> s = pd.Series([[1, 2], [3, 4]])\n",
            "    >>> deep = s.copy()\n",
            "    >>> s[0][0] = 10\n",
            "    >>> s\n",
            "    0    [10, 2]\n",
            "    1     [3, 4]\n",
            "    dtype: object\n",
            "    >>> deep\n",
            "    0    [10, 2]\n",
            "    1     [3, 4]\n",
            "    dtype: object\n",
            "\n",
            "    **Copy-on-Write is set to true**, the shallow copy is not modified\n",
            "    when the original data is changed:\n",
            "\n",
            "    >>> with pd.option_context(\"mode.copy_on_write\", True):\n",
            "    ...     s = pd.Series([1, 2], index=[\"a\", \"b\"])\n",
            "    ...     copy = s.copy(deep=False)\n",
            "    ...     s.iloc[0] = 100\n",
            "    ...     s\n",
            "    a    100\n",
            "    b      2\n",
            "    dtype: int64\n",
            "    >>> copy\n",
            "    a    1\n",
            "    b    2\n",
            "    dtype: int64\n",
            "\n"
          ]
        }
      ],
      "source": [
        "# You can pass the function name to the help function to get the docstring for that function\n",
        "# For example, to get help on the copy method of the DataFrame class in pandas\n",
        "\n",
        "help(pd.DataFrame.copy)"
      ]
    },
    {
      "cell_type": "code",
      "execution_count": 7,
      "metadata": {
        "colab": {
          "base_uri": "https://localhost:8080/"
        },
        "id": "i99v6hFRhru_",
        "outputId": "1edd5c58-788d-47f2-8d28-9cd461f25f3c"
      },
      "outputs": [
        {
          "name": "stdout",
          "output_type": "stream",
          "text": [
            "Python 3.12.9\n"
          ]
        }
      ],
      "source": [
        "# Useing ! can be used to run shell commands from within the notebook\n",
        "!python --version"
      ]
    },
    {
      "cell_type": "code",
      "execution_count": 9,
      "metadata": {
        "colab": {
          "base_uri": "https://localhost:8080/"
        },
        "id": "W2qESvaTACIH",
        "outputId": "b81319e2-103c-4b94-c4b0-bbb0cbe15f72"
      },
      "outputs": [
        {
          "name": "stdout",
          "output_type": "stream",
          "text": [
            " Volume in drive C is Windows-SSD\n",
            " Volume Serial Number is 461E-9AC3\n",
            "\n",
            " Directory of c:\\Users\\cleme\\code\\SEAS8416DC8\\src\n",
            "\n",
            "03/29/2025  10:03 AM    <DIR>          .\n",
            "03/28/2025  10:06 PM    <DIR>          ..\n",
            "03/29/2025  10:49 AM         1,007,711 EDA-Iris.ipynb\n",
            "03/29/2025  04:35 PM           314,416 SEAS8416_Spr1_25-Lecture_1.ipynb\n",
            "               2 File(s)      1,322,127 bytes\n",
            "               2 Dir(s)  928,248,287,232 bytes free\n"
          ]
        }
      ],
      "source": [
        "# Shell commands can be used for file operations, like listing the contents of the current directory\n",
        "!dir"
      ]
    },
    {
      "cell_type": "markdown",
      "metadata": {
        "id": "3nwCa1_nuH_J"
      },
      "source": [
        "### ***Variables and Data Types***"
      ]
    },
    {
      "cell_type": "markdown",
      "metadata": {
        "id": "JJVBpWHEANbN"
      },
      "source": [
        "Python has a rich set of built-in data types that allow you to store and manipulate various kinds of data. Here's a breakdown of the main Python data types:\n",
        "\n",
        "Numeric Types:  Integer (int), Floating-point (float), Complex (complex)\n",
        "\n",
        "Sequence Types:  String (str), List (list), Tuple (tuple)\n",
        "\n",
        "Mapping Type:  Distionary(dict)\n",
        "\n",
        "Set Type:  Set (set), Frozen Set (frozenset)\n",
        "\n",
        "Boolean (bool)\n",
        "\n"
      ]
    },
    {
      "cell_type": "code",
      "execution_count": 10,
      "metadata": {
        "id": "me2QjsOtCxsI"
      },
      "outputs": [],
      "source": [
        "# Casting as a float will override the default type of the variable\n",
        "x = float(10)"
      ]
    },
    {
      "cell_type": "code",
      "execution_count": 11,
      "metadata": {
        "colab": {
          "base_uri": "https://localhost:8080/"
        },
        "id": "PPhSuW4dNHcg",
        "outputId": "2b2808dd-4d2f-4ad9-f0cc-4e4c002d8b38"
      },
      "outputs": [
        {
          "data": {
            "text/plain": [
              "10.0"
            ]
          },
          "execution_count": 11,
          "metadata": {},
          "output_type": "execute_result"
        }
      ],
      "source": [
        "# Typing the variable name will show you the value of the variable - unless it is an obkect with a __str__ method that is not implemented\n",
        "x"
      ]
    },
    {
      "cell_type": "code",
      "execution_count": 12,
      "metadata": {
        "colab": {
          "base_uri": "https://localhost:8080/"
        },
        "id": "el_RIVsFC17u",
        "outputId": "02eb82c7-1554-41a6-925c-37d1bb39cd22"
      },
      "outputs": [
        {
          "data": {
            "text/plain": [
              "float"
            ]
          },
          "execution_count": 12,
          "metadata": {},
          "output_type": "execute_result"
        }
      ],
      "source": [
        "# Type can be used to check the type of the variable\n",
        "type(x)"
      ]
    },
    {
      "cell_type": "code",
      "execution_count": 13,
      "metadata": {
        "colab": {
          "base_uri": "https://localhost:8080/"
        },
        "id": "eZu2v-4FC4vv",
        "outputId": "f29402aa-1912-4ecd-8e7d-94ba109ee7d2"
      },
      "outputs": [
        {
          "data": {
            "text/plain": [
              "False"
            ]
          },
          "execution_count": 13,
          "metadata": {},
          "output_type": "execute_result"
        }
      ],
      "source": [
        "# Recall functions that start with is are frequently returning a boolean value\n",
        "isinstance(x, str)"
      ]
    },
    {
      "cell_type": "code",
      "execution_count": 15,
      "metadata": {
        "colab": {
          "base_uri": "https://localhost:8080/"
        },
        "id": "t3tCMk8nfBpg",
        "outputId": "6c47eef5-88c3-46c2-e0db-4c3ee8ad90af"
      },
      "outputs": [
        {
          "name": "stdout",
          "output_type": "stream",
          "text": [
            "56\n",
            "3.14\n",
            "Hello World\n",
            "True\n",
            "<class 'int'>\n",
            "<class 'float'>\n",
            "<class 'str'>\n",
            "<class 'bool'>\n"
          ]
        }
      ],
      "source": [
        "# Putting several examples together to show the different types of variables in Python\n",
        "# Integers, floats, strings, and booleans are the most common types of variables in Python\n",
        "int_var = 56\n",
        "float_var = 3.14\n",
        "str_var = \"Hello World\"\n",
        "bool_var = True\n",
        "\n",
        "print(int_var)\n",
        "print(float_var)\n",
        "print(str_var)\n",
        "print(bool_var)\n",
        "\n",
        "print(type(int_var))\n",
        "print(type(float_var))\n",
        "print(type(str_var))\n",
        "print(type(bool_var))"
      ]
    },
    {
      "cell_type": "markdown",
      "metadata": {
        "id": "bjuCKXLqMRnf"
      },
      "source": [
        "Creating a variable with 0x in the beginning will tell the interpreter this is a hex value."
      ]
    },
    {
      "cell_type": "code",
      "execution_count": 25,
      "metadata": {
        "id": "FqhyaVDXhuhX"
      },
      "outputs": [],
      "source": [
        "x1 = 0x7B\n"
      ]
    },
    {
      "cell_type": "markdown",
      "metadata": {
        "id": "CKLDZx_hMfWY"
      },
      "source": [
        "However, when you interogate the variable, it shows it in base10."
      ]
    },
    {
      "cell_type": "code",
      "execution_count": 26,
      "metadata": {
        "colab": {
          "base_uri": "https://localhost:8080/"
        },
        "id": "eh5gx7oijZ_O",
        "outputId": "e6c3e7b6-8b94-46b9-bb98-f177ce47f712"
      },
      "outputs": [
        {
          "data": {
            "text/plain": [
              "123"
            ]
          },
          "execution_count": 26,
          "metadata": {},
          "output_type": "execute_result"
        }
      ],
      "source": [
        "x1"
      ]
    },
    {
      "cell_type": "markdown",
      "metadata": {
        "id": "TulVyfU-MyfS"
      },
      "source": [
        "0b will assign the variable with a binary value"
      ]
    },
    {
      "cell_type": "code",
      "execution_count": 27,
      "metadata": {
        "id": "14x2Z6g8je6r"
      },
      "outputs": [],
      "source": [
        "x2 = 0b01111011\n"
      ]
    },
    {
      "cell_type": "markdown",
      "metadata": {
        "id": "yudtqGu0M8lh"
      },
      "source": [
        "Again, it is presented in base10."
      ]
    },
    {
      "cell_type": "code",
      "execution_count": 28,
      "metadata": {
        "colab": {
          "base_uri": "https://localhost:8080/"
        },
        "id": "S3ROGGfWjig4",
        "outputId": "1030d9aa-1d91-4dd0-94d6-13391ec4ddcb"
      },
      "outputs": [
        {
          "data": {
            "text/plain": [
              "123"
            ]
          },
          "execution_count": 28,
          "metadata": {},
          "output_type": "execute_result"
        }
      ],
      "source": [
        "x2"
      ]
    },
    {
      "cell_type": "markdown",
      "metadata": {
        "id": "kLq6_379NBWp"
      },
      "source": [
        "Add operator does not care what base the integer is in."
      ]
    },
    {
      "cell_type": "code",
      "execution_count": 35,
      "metadata": {
        "colab": {
          "base_uri": "https://localhost:8080/"
        },
        "id": "Jx9rzei3jjGL",
        "outputId": "41e0a050-8474-4342-85fe-e04f19ef4440"
      },
      "outputs": [
        {
          "data": {
            "text/plain": [
              "369.0"
            ]
          },
          "execution_count": 35,
          "metadata": {},
          "output_type": "execute_result"
        }
      ],
      "source": [
        "x+x1+x2"
      ]
    },
    {
      "cell_type": "markdown",
      "metadata": {
        "id": "QTqPYcA-uoRY"
      },
      "source": [
        "math is a good library for many functions.  checkout [math library docs](https://docs.python.org/3/library/math.html).  When using math operators on int and float, the result is a float."
      ]
    },
    {
      "cell_type": "code",
      "execution_count": 16,
      "metadata": {
        "colab": {
          "base_uri": "https://localhost:8080/"
        },
        "id": "LliFutE4RGET",
        "outputId": "c05b7644-5fad-4291-cf56-d9a3c9ce5641"
      },
      "outputs": [
        {
          "name": "stdout",
          "output_type": "stream",
          "text": [
            "3.141592653589793\n"
          ]
        }
      ],
      "source": [
        "# The math module is a built-in module in Python that provides mathematical functions and constants\n",
        "# math functions and contants are not available by default, you need to import the math module first\n",
        "import math\n",
        "x = 5\n",
        "y = math.pi\n",
        "print(y)"
      ]
    },
    {
      "cell_type": "markdown",
      "metadata": {
        "id": "WmGyIYjyvOk0"
      },
      "source": [
        "Even though inputs are int, division returns a float."
      ]
    },
    {
      "cell_type": "code",
      "execution_count": 20,
      "metadata": {},
      "outputs": [
        {
          "name": "stdout",
          "output_type": "stream",
          "text": [
            "<class 'int'>\n",
            "<class 'int'>\n",
            "<class 'float'>\n",
            "0.75\n"
          ]
        }
      ],
      "source": [
        "x, y = 3, 4 # This is multiple assignment, where x is assigned 3 and y is assigned 4\n",
        "print(type(x))\n",
        "print(type(y))\n",
        "print(type(x / y))\n",
        "z = x / y\n",
        "print(z)"
      ]
    },
    {
      "cell_type": "code",
      "execution_count": 21,
      "metadata": {
        "colab": {
          "base_uri": "https://localhost:8080/"
        },
        "id": "YHoplti8WS06",
        "outputId": "665212c9-f16e-45fa-9823-e0a111884d23"
      },
      "outputs": [
        {
          "name": "stdout",
          "output_type": "stream",
          "text": [
            "The real part of complex number is: 3.0\n",
            "The imaginary part of complex number is: 5.43656365691809\n"
          ]
        }
      ],
      "source": [
        "# complex numbers are represented in Python using the complex() function\n",
        "z = complex(3, 2*math.e)\n",
        "print(\"The real part of complex number is:\", z.real)\n",
        "print(\"The imaginary part of complex number is:\", z.imag)"
      ]
    },
    {
      "cell_type": "markdown",
      "metadata": {
        "id": "gSJ7pnTmfdx2"
      },
      "source": [
        "Boolean types are True / False or bool(1) bool(0) when you cast."
      ]
    },
    {
      "cell_type": "code",
      "execution_count": 30,
      "metadata": {
        "id": "Jq7TV8ZrWSqE"
      },
      "outputs": [
        {
          "name": "stdout",
          "output_type": "stream",
          "text": [
            "True\n",
            "False\n",
            "True\n",
            "False\n",
            "True\n"
          ]
        }
      ],
      "source": [
        "# Casting anything other than 0 to a boolean will return True\n",
        "bool1 = bool(1)\n",
        "print(bool1)\n",
        "bool2 = bool(0)\n",
        "print(bool2)\n",
        "bool3 = bool(-1)\n",
        "print(bool3)\n",
        "bool4 = bool(0.0)\n",
        "print(bool4)\n",
        "bool5 = bool(\"Hello\")\n",
        "print(bool5)"
      ]
    },
    {
      "cell_type": "code",
      "execution_count": 31,
      "metadata": {
        "id": "fFXLrRyifTAm"
      },
      "outputs": [
        {
          "data": {
            "text/plain": [
              "1"
            ]
          },
          "execution_count": 31,
          "metadata": {},
          "output_type": "execute_result"
        }
      ],
      "source": [
        "# Adding boolean values will return an integer value\n",
        "boolSum = bool1 + bool2\n",
        "boolSum"
      ]
    },
    {
      "cell_type": "markdown",
      "metadata": {
        "id": "DydLwTmoR_Dr"
      },
      "source": [
        "Variables cannot start with anything other than an alpha character"
      ]
    },
    {
      "cell_type": "code",
      "execution_count": 32,
      "metadata": {
        "colab": {
          "base_uri": "https://localhost:8080/",
          "height": 108
        },
        "id": "IlHevPQ_RO55",
        "outputId": "e5144862-612e-448a-b486-b3e9fe19e57c"
      },
      "outputs": [
        {
          "ename": "SyntaxError",
          "evalue": "invalid decimal literal (1247228393.py, line 2)",
          "output_type": "error",
          "traceback": [
            "  \u001b[36mCell\u001b[39m\u001b[36m \u001b[39m\u001b[32mIn[32]\u001b[39m\u001b[32m, line 2\u001b[39m\n\u001b[31m    \u001b[39m\u001b[31m1varianble = \"hello\"\u001b[39m\n    ^\n\u001b[31mSyntaxError\u001b[39m\u001b[31m:\u001b[39m invalid decimal literal\n"
          ]
        }
      ],
      "source": [
        "# This will return an error because the variable name cannot start with a number\n",
        "1varianble = \"hello\""
      ]
    },
    {
      "cell_type": "markdown",
      "metadata": {
        "id": "R_HrQp4cf_cw"
      },
      "source": [
        "You can assign multiple variables in one line."
      ]
    },
    {
      "cell_type": "code",
      "execution_count": 33,
      "metadata": {
        "id": "RHK0wg1mSJa0"
      },
      "outputs": [
        {
          "name": "stdout",
          "output_type": "stream",
          "text": [
            "1 2 Jerry\n"
          ]
        }
      ],
      "source": [
        "x, y, z = 1, 2, \"Jerry\"\n",
        "print(x, y, z)"
      ]
    },
    {
      "cell_type": "markdown",
      "metadata": {
        "id": "h2qBwlM6SaXZ"
      },
      "source": [
        "Variable names can follow a few common formats such as camel case or underscore use."
      ]
    },
    {
      "cell_type": "code",
      "execution_count": 34,
      "metadata": {
        "id": "M_euLM2BSJS2"
      },
      "outputs": [],
      "source": [
        "#camel case\n",
        "camelCaseVariable = \"testing 123\"\n",
        "#using underscores\n",
        "underscore_variable = \"testing 123\""
      ]
    },
    {
      "cell_type": "markdown",
      "metadata": {
        "id": "mRluSq7ovbzW"
      },
      "source": [
        "### ***Input, Output and String functions***"
      ]
    },
    {
      "cell_type": "code",
      "execution_count": 37,
      "metadata": {
        "colab": {
          "base_uri": "https://localhost:8080/"
        },
        "id": "tte7xRwpOghG",
        "outputId": "240d34c0-eb03-4a78-bdc7-fc1197737b54"
      },
      "outputs": [
        {
          "data": {
            "text/plain": [
              "str"
            ]
          },
          "execution_count": 37,
          "metadata": {},
          "output_type": "execute_result"
        }
      ],
      "source": [
        "# input function is used to take input from the user\n",
        "# The input function will return a value of type string, so you need to cast it to the desired type\n",
        "name = input(\"Enter your name: \")\n",
        "type(name)"
      ]
    },
    {
      "cell_type": "code",
      "execution_count": 38,
      "metadata": {
        "colab": {
          "base_uri": "https://localhost:8080/"
        },
        "id": "15cf8tDQO_9S",
        "outputId": "c641c9b1-c870-46c5-b364-1ea6c009a348"
      },
      "outputs": [
        {
          "name": "stdout",
          "output_type": "stream",
          "text": [
            "6\n"
          ]
        }
      ],
      "source": [
        "print(name)"
      ]
    },
    {
      "cell_type": "code",
      "execution_count": 44,
      "metadata": {
        "colab": {
          "base_uri": "https://localhost:8080/"
        },
        "id": "2VRN9bECPBrk",
        "outputId": "d42954af-4f73-4f6c-ddf6-6ff3aff9579a"
      },
      "outputs": [
        {
          "name": "stdout",
          "output_type": "stream",
          "text": [
            "Hello Waldo\n",
            "Also Hello Waldo\n",
            "Again, Hello Waldo\n",
            "Waldo is 10.00000 years old\n",
            "Waldo is 10.0 years old\n"
          ]
        }
      ],
      "source": [
        "# Strings can be concatenated using the + operator\n",
        "# Strings can be formatted using the format method or f-strings\n",
        "# The format method is used to format strings using placeholders\n",
        "\n",
        "name = \"Waldo\"\n",
        "fav_num = 10\n",
        "\n",
        "print(\"Hello \" + name)\n",
        "print(\"Also Hello\", name)\n",
        "print (f\"Again, Hello {name}\")\n",
        "\n",
        "print (\"{} is {:.5f} years old\".format(name, fav_num)) # Can also be formatted using the format method\n",
        "print (\"{} is {} years old\".format(name, fav_float))"
      ]
    },
    {
      "cell_type": "code",
      "execution_count": 46,
      "metadata": {
        "colab": {
          "base_uri": "https://localhost:8080/"
        },
        "id": "3t3t75WU0MEh",
        "outputId": "65deccee-8cef-4daf-c5a3-25e4c4f6f5e8"
      },
      "outputs": [
        {
          "name": "stdout",
          "output_type": "stream",
          "text": [
            "Waldo\n",
            "Waldo\n",
            "Waldo\n",
            "\n"
          ]
        }
      ],
      "source": [
        "repeat = 3\n",
        "print((name + \"\\n\") * repeat) # This will repeat the string 3 times"
      ]
    },
    {
      "cell_type": "code",
      "execution_count": 47,
      "metadata": {
        "colab": {
          "base_uri": "https://localhost:8080/"
        },
        "id": "U9QgMnjNPyuJ",
        "outputId": "544c10ab-362e-475f-eed4-9279932ef68a"
      },
      "outputs": [
        {
          "name": "stdout",
          "output_type": "stream",
          "text": [
            "Here is how \n",
            "you can use escape codes! \t\t\tAint it Nice???\n"
          ]
        }
      ],
      "source": [
        "# Escape codes are used to format strings in Python\n",
        "print(\"Here is how \\nyou can use escape codes! \\t\\t\\tAint it Nice???\")\n"
      ]
    },
    {
      "cell_type": "code",
      "execution_count": 50,
      "metadata": {
        "colab": {
          "base_uri": "https://localhost:8080/"
        },
        "id": "Au69awpBPzKH",
        "outputId": "007cd04b-6d7b-4b09-baf1-6c07dca88651"
      },
      "outputs": [
        {
          "name": "stdout",
          "output_type": "stream",
          "text": [
            "THIS IS A WONKEY STRING!!!!\n",
            "this is a wonkey string!!!!\n",
            "This Is A Wonkey String!!!!\n"
          ]
        }
      ],
      "source": [
        "# Sting methods are used to manipulate strings in Python\n",
        "# follow the string variable name with a dot and the method name to use the method\n",
        "myString = \"this Is a Wonkey string!!!!\"\n",
        "print(myString.upper())\n",
        "print(myString.lower())\n",
        "print(myString.title())"
      ]
    },
    {
      "cell_type": "code",
      "execution_count": null,
      "metadata": {
        "colab": {
          "base_uri": "https://localhost:8080/"
        },
        "id": "dB_FD_J4QNcc",
        "outputId": "d8306e10-5d56-40c4-90f0-cf61b46b7765"
      },
      "outputs": [
        {
          "name": "stdout",
          "output_type": "stream",
          "text": [
            "5\n",
            "this Is a Wonkey string!!!!\n",
            "False\n",
            "['this', 'Is', 'a', 'Wonkey', 'string!!!!']\n",
            "('this', ' ', 'Is a Wonkey string!!!!     ')\n",
            "('this', ' ', 'Is a Wonkey string!!!!')\n"
          ]
        }
      ],
      "source": [
        "# Some additional string methods\n",
        "print(myString.index(\"Is\"))\n",
        "print(myString.strip())\n",
        "print(myString.isalpha())\n",
        "print(myString.split())\n",
        "print(myString.partition(\" \"))\n",
        "print(myString.strip().partition(\" \"))"
      ]
    },
    {
      "cell_type": "code",
      "execution_count": null,
      "metadata": {
        "colab": {
          "base_uri": "https://localhost:8080/"
        },
        "id": "RUW8weFrQXVK",
        "outputId": "47a96e14-92f1-4076-ab85-5a124ae19a2b"
      },
      "outputs": [
        {
          "name": "stdout",
          "output_type": "stream",
          "text": [
            "You can add comments on same line as code.\n"
          ]
        }
      ],
      "source": [
        "#this is a comment for one line\n",
        "print(\"You can add comments on same line as code.\") #you can place comments here"
      ]
    },
    {
      "cell_type": "markdown",
      "metadata": {
        "id": "VGCgfy9pU8iE"
      },
      "source": [
        "With 3 quote marks, a multiline comment can be entered.  Also note, when we get to functions, if formatted in a certain way, you can provide help text."
      ]
    },
    {
      "cell_type": "code",
      "execution_count": 51,
      "metadata": {
        "id": "lN7ZvGJTQv_m"
      },
      "outputs": [],
      "source": [
        "# This is a multi-line comment in a function that will return help on the function\n",
        "\n",
        "def string_reverse(str1):\n",
        "    '''\n",
        "    Returns the reversed String.\n",
        "\n",
        "    Parameters:\n",
        "        str1 (str):The string which is to be reversed.\n",
        "\n",
        "    Returns:\n",
        "        reverse(str1):The string which gets reversed.\n",
        "    '''\n",
        "\n",
        "    reverse_str1 = ''\n",
        "    i = len(str1)\n",
        "    while i > 0:\n",
        "        reverse_str1 += str1[i - 1]\n",
        "        i = i - 1\n",
        "    return reverse_str1"
      ]
    },
    {
      "cell_type": "code",
      "execution_count": 52,
      "metadata": {
        "colab": {
          "base_uri": "https://localhost:8080/"
        },
        "id": "gjYo1O-_Q8SN",
        "outputId": "110941d4-e890-464c-edd3-f073df4b5ebf"
      },
      "outputs": [
        {
          "name": "stdout",
          "output_type": "stream",
          "text": [
            "Help on function string_reverse in module __main__:\n",
            "\n",
            "string_reverse(str1)\n",
            "    Returns the reversed String.\n",
            "\n",
            "    Parameters:\n",
            "        str1 (str):The string which is to be reversed.\n",
            "\n",
            "    Returns:\n",
            "        reverse(str1):The string which gets reversed.\n",
            "\n"
          ]
        }
      ],
      "source": [
        "help(string_reverse)"
      ]
    },
    {
      "cell_type": "code",
      "execution_count": 53,
      "metadata": {
        "colab": {
          "base_uri": "https://localhost:8080/",
          "height": 35
        },
        "id": "m3QZ228zCcLz",
        "outputId": "434d12aa-2244-4aef-f352-b85d2a09b480"
      },
      "outputs": [
        {
          "data": {
            "text/plain": [
              "'gnirts a si sihT'"
            ]
          },
          "execution_count": 53,
          "metadata": {},
          "output_type": "execute_result"
        }
      ],
      "source": [
        "# Call a function with a string as an argument\n",
        "string_reverse(\"This is a string\")"
      ]
    },
    {
      "cell_type": "code",
      "execution_count": 56,
      "metadata": {
        "id": "t5Guo6l0jHKp"
      },
      "outputs": [],
      "source": [
        "# Regular expressions are used to search for patterns in strings\n",
        "import re # re is a built in module in Python for regular expressions\n",
        "def remove_num(sentence):\n",
        "    return re.sub(r'\\d+', '', sentence) # This will remove all numbers from the string. \\d+ is a regex pattern that matches one or more digits"
      ]
    },
    {
      "cell_type": "code",
      "execution_count": 58,
      "metadata": {
        "id": "xy1GMTrTC9i4"
      },
      "outputs": [
        {
          "name": "stdout",
          "output_type": "stream",
          "text": [
            "SADFGASDF\n"
          ]
        }
      ],
      "source": [
        "someString = \"123SADFGASDF\"\n",
        "return_val = remove_num(someString)\n",
        "print(return_val)"
      ]
    },
    {
      "cell_type": "markdown",
      "metadata": {
        "id": "G0xUYJDufduK"
      },
      "source": [
        "### ***Basic Math***"
      ]
    },
    {
      "cell_type": "code",
      "execution_count": null,
      "metadata": {
        "id": "LgIufSHpYGQX"
      },
      "outputs": [],
      "source": [
        "import math"
      ]
    },
    {
      "cell_type": "code",
      "execution_count": 60,
      "metadata": {
        "colab": {
          "base_uri": "https://localhost:8080/"
        },
        "id": "WAJ4v5IJePNP",
        "outputId": "df7382cd-a7bd-4c03-bacc-db466f61c774"
      },
      "outputs": [
        {
          "name": "stdout",
          "output_type": "stream",
          "text": [
            "2209\n",
            "103823\n"
          ]
        }
      ],
      "source": [
        "x = 47\n",
        "print(x**2) # exponentiation\n",
        "print(x**3) # exponentiation"
      ]
    },
    {
      "cell_type": "code",
      "execution_count": 63,
      "metadata": {
        "colab": {
          "base_uri": "https://localhost:8080/"
        },
        "id": "E-gy6v7eePIF",
        "outputId": "e246e3b6-2854-4a72-bf47-9b281577f78c"
      },
      "outputs": [
        {
          "data": {
            "text/plain": [
              "23"
            ]
          },
          "execution_count": 63,
          "metadata": {},
          "output_type": "execute_result"
        }
      ],
      "source": [
        "# The // operator is used for floor division, which returns the largest integer less than or equal to the result of the division\n",
        "y = 2\n",
        "x // y"
      ]
    },
    {
      "cell_type": "code",
      "execution_count": 64,
      "metadata": {
        "colab": {
          "base_uri": "https://localhost:8080/"
        },
        "id": "2dRIlfwrePFL",
        "outputId": "a16b3bd9-93cd-4c2d-b075-c1f193b5cb67"
      },
      "outputs": [
        {
          "data": {
            "text/plain": [
              "1"
            ]
          },
          "execution_count": 64,
          "metadata": {},
          "output_type": "execute_result"
        }
      ],
      "source": [
        "# Mod returns the remainder of the division of x by y\n",
        "x % y"
      ]
    },
    {
      "cell_type": "markdown",
      "metadata": {},
      "source": [
        "Logical Conditionals"
      ]
    },
    {
      "cell_type": "code",
      "execution_count": 66,
      "metadata": {
        "colab": {
          "base_uri": "https://localhost:8080/"
        },
        "id": "bIkl9EZJePCK",
        "outputId": "11823ef3-3e43-4128-f9a1-ae24afb0fb89"
      },
      "outputs": [
        {
          "data": {
            "text/plain": [
              "True"
            ]
          },
          "execution_count": 66,
          "metadata": {},
          "output_type": "execute_result"
        }
      ],
      "source": [
        "x != y # Not equal to operator returns boolean"
      ]
    },
    {
      "cell_type": "code",
      "execution_count": 67,
      "metadata": {
        "colab": {
          "base_uri": "https://localhost:8080/"
        },
        "id": "63W618GVe1kT",
        "outputId": "1633be85-94c2-47c8-d694-b02e49ffb9f4"
      },
      "outputs": [
        {
          "data": {
            "text/plain": [
              "False"
            ]
          },
          "execution_count": 67,
          "metadata": {},
          "output_type": "execute_result"
        }
      ],
      "source": [
        "x == y # Equal to operator returns boolean.  Remember that == is used to compare values, while = is used to assign values"
      ]
    },
    {
      "cell_type": "code",
      "execution_count": 68,
      "metadata": {
        "colab": {
          "base_uri": "https://localhost:8080/"
        },
        "id": "mYjuIyW8e3EU",
        "outputId": "eee0fdd4-dd0c-4427-d971-5f692722e4f9"
      },
      "outputs": [
        {
          "data": {
            "text/plain": [
              "True"
            ]
          },
          "execution_count": 68,
          "metadata": {},
          "output_type": "execute_result"
        }
      ],
      "source": [
        "x > y # Greater than operator returns boolean"
      ]
    },
    {
      "cell_type": "code",
      "execution_count": 69,
      "metadata": {
        "colab": {
          "base_uri": "https://localhost:8080/"
        },
        "id": "HJWtRT5DZFNh",
        "outputId": "1c141b5a-a732-43df-a54c-215c2f3d3ee7"
      },
      "outputs": [
        {
          "data": {
            "text/plain": [
              "3"
            ]
          },
          "execution_count": 69,
          "metadata": {},
          "output_type": "execute_result"
        }
      ],
      "source": [
        "math.floor(3.999) # Floor function returns the largest integer less than or equal to the number"
      ]
    },
    {
      "cell_type": "code",
      "execution_count": 70,
      "metadata": {
        "colab": {
          "base_uri": "https://localhost:8080/"
        },
        "id": "sGQPY5tSZFK3",
        "outputId": "4f376a95-8725-4d6a-b297-dd18982b0759"
      },
      "outputs": [
        {
          "data": {
            "text/plain": [
              "4"
            ]
          },
          "execution_count": 70,
          "metadata": {},
          "output_type": "execute_result"
        }
      ],
      "source": [
        "math.ceil(3.333) # Ceil function returns the smallest integer greater than or equal to the number"
      ]
    },
    {
      "cell_type": "code",
      "execution_count": 73,
      "metadata": {
        "colab": {
          "base_uri": "https://localhost:8080/"
        },
        "id": "UgPbPLp6ZFEe",
        "outputId": "e443311e-0270-43a2-f99b-1affc4699f5c"
      },
      "outputs": [
        {
          "name": "stdout",
          "output_type": "stream",
          "text": [
            "3.0\n"
          ]
        },
        {
          "data": {
            "text/plain": [
              "float"
            ]
          },
          "execution_count": 73,
          "metadata": {},
          "output_type": "execute_result"
        }
      ],
      "source": [
        "print(math.sqrt(9))\n",
        "type(math.sqrt(9)) # Square root function returns the square root of the number. Type is float"
      ]
    },
    {
      "cell_type": "markdown",
      "metadata": {
        "id": "v5ZwVC1YTkMd"
      },
      "source": [
        "### ***Data Collection Types***"
      ]
    },
    {
      "cell_type": "markdown",
      "metadata": {
        "id": "MGHrPF6tTox2"
      },
      "source": [
        "**Lists**"
      ]
    },
    {
      "cell_type": "markdown",
      "metadata": {
        "id": "VX1A2As-Yq_k"
      },
      "source": [
        "Defined with [] brackets"
      ]
    },
    {
      "cell_type": "code",
      "execution_count": 77,
      "metadata": {
        "id": "J7oz9NtBQ_BK"
      },
      "outputs": [],
      "source": [
        "names = [\"James\", \"Ryan\", \"Mary\"]"
      ]
    },
    {
      "cell_type": "code",
      "execution_count": 78,
      "metadata": {
        "colab": {
          "base_uri": "https://localhost:8080/"
        },
        "id": "JsT6Xmb_Q--h",
        "outputId": "351310ed-4022-42b2-db9c-6579cafe369c"
      },
      "outputs": [
        {
          "data": {
            "text/plain": [
              "['James', 'Ryan', 'Mary']"
            ]
          },
          "execution_count": 78,
          "metadata": {},
          "output_type": "execute_result"
        }
      ],
      "source": [
        "names"
      ]
    },
    {
      "cell_type": "markdown",
      "metadata": {
        "id": "MHWqW2AfT1CA"
      },
      "source": [
        "Access list elements by index.  The first element is index 0."
      ]
    },
    {
      "cell_type": "code",
      "execution_count": 83,
      "metadata": {
        "colab": {
          "base_uri": "https://localhost:8080/",
          "height": 35
        },
        "id": "39VbMS8ZQ-7o",
        "outputId": "48f4d113-5767-4d9a-ec51-58aca62e32b5"
      },
      "outputs": [
        {
          "name": "stdout",
          "output_type": "stream",
          "text": [
            "James\n",
            "Ryan\n",
            "Mary\n"
          ]
        }
      ],
      "source": [
        "# iterate though the length of the list and print each name\n",
        "for i in range(0, len(names)):\n",
        "    print(names[i])"
      ]
    },
    {
      "cell_type": "markdown",
      "metadata": {
        "id": "GYh7iiVaYw1S"
      },
      "source": [
        "Adding elements is easy and supported"
      ]
    },
    {
      "cell_type": "code",
      "execution_count": 84,
      "metadata": {
        "id": "kvTGhXZcVRaV"
      },
      "outputs": [],
      "source": [
        "names.append(\"foo\")\n",
        "names.insert(1, \"NEW NAME\") # Insert at index 1\n",
        "names.append(345) # Append at the end of the list"
      ]
    },
    {
      "cell_type": "code",
      "execution_count": 86,
      "metadata": {
        "colab": {
          "base_uri": "https://localhost:8080/"
        },
        "id": "2I-l0S70VRX0",
        "outputId": "67e6582a-b131-4ebf-e225-e855bbbf57d4"
      },
      "outputs": [
        {
          "data": {
            "text/plain": [
              "['James', 'NEW NAME', 'Ryan', 'Mary', 'foo', 345]"
            ]
          },
          "execution_count": 86,
          "metadata": {},
          "output_type": "execute_result"
        }
      ],
      "source": [
        "names # We can see the list has been modified"
      ]
    },
    {
      "cell_type": "markdown",
      "metadata": {
        "id": "ePoAA6ZGY035"
      },
      "source": [
        "Elements can be of different data types.  -1 is a positional argument for last the last element"
      ]
    },
    {
      "cell_type": "code",
      "execution_count": 90,
      "metadata": {
        "colab": {
          "base_uri": "https://localhost:8080/"
        },
        "id": "Y6cJXXZCVRUa",
        "outputId": "9bc3b018-c4ad-4a46-9a43-ca9aa146be3a"
      },
      "outputs": [
        {
          "name": "stdout",
          "output_type": "stream",
          "text": [
            "<class 'int'>\n",
            "<class 'str'>\n",
            "JAMES\n"
          ]
        }
      ],
      "source": [
        "print(type(names[-1])) # This will return the last name in the list\n",
        "print(type(names[0])) # This will return the first name in the list\n",
        "print(names[0].upper()) # This will return the first name in the list in upper case "
      ]
    },
    {
      "cell_type": "markdown",
      "metadata": {
        "id": "fT9NKcU6Y-A4"
      },
      "source": [
        "This is one way of removing an element"
      ]
    },
    {
      "cell_type": "code",
      "execution_count": 91,
      "metadata": {
        "id": "8TUUSd9uYVET"
      },
      "outputs": [],
      "source": [
        "names.remove(\"foo\")"
      ]
    },
    {
      "cell_type": "markdown",
      "metadata": {
        "id": "9SFYCBQjZFD9"
      },
      "source": [
        "Lists are interable making it one way to access and work with every element, and also can be assessed with conditionals in the iteration."
      ]
    },
    {
      "cell_type": "code",
      "execution_count": 92,
      "metadata": {
        "colab": {
          "base_uri": "https://localhost:8080/"
        },
        "id": "ZQUeAJ6qVRFM",
        "outputId": "4a36cac8-bc76-48ea-c8d8-b322ecafe7cd"
      },
      "outputs": [
        {
          "name": "stdout",
          "output_type": "stream",
          "text": [
            "James\n",
            "NEW NAME\n",
            "Ryan\n",
            "Mary\n",
            "345\n"
          ]
        }
      ],
      "source": [
        "for i in names:\n",
        "    print(i)"
      ]
    },
    {
      "cell_type": "code",
      "execution_count": 94,
      "metadata": {
        "id": "HkyK4zTOQ-4H"
      },
      "outputs": [
        {
          "name": "stdout",
          "output_type": "stream",
          "text": [
            "Mary\n"
          ]
        }
      ],
      "source": [
        "pop_var = names.pop() # This will remove the last element from the list and return it\n",
        "print(pop_var)"
      ]
    },
    {
      "cell_type": "code",
      "execution_count": 95,
      "metadata": {
        "id": "529wO6RaYeTs"
      },
      "outputs": [
        {
          "name": "stdout",
          "output_type": "stream",
          "text": [
            "['Ryan', 'NEW NAME', 'James']\n"
          ]
        }
      ],
      "source": [
        "names.sort(reverse=True) # This will sort the list in reverse order\n",
        "print(names)\n"
      ]
    },
    {
      "cell_type": "code",
      "execution_count": 97,
      "metadata": {
        "colab": {
          "base_uri": "https://localhost:8080/"
        },
        "id": "dGivzhd6ch9a",
        "outputId": "e95db0f5-02b1-4a05-dc87-43002f10609a"
      },
      "outputs": [
        {
          "data": {
            "text/plain": [
              "['Ryan', 'NEW NAME', 'James']"
            ]
          },
          "execution_count": 97,
          "metadata": {},
          "output_type": "execute_result"
        }
      ],
      "source": [
        "names # sorting changed the list in place, so the original list is now sorted"
      ]
    },
    {
      "cell_type": "code",
      "execution_count": 98,
      "metadata": {
        "id": "WiD9qM1TYeQ1"
      },
      "outputs": [],
      "source": [
        "list2 = names.copy() # unless the original list is copied then any operations are actually applied to the original."
      ]
    },
    {
      "cell_type": "code",
      "execution_count": 103,
      "metadata": {},
      "outputs": [],
      "source": [
        "list3 = names # This will create a reference to the original list, not a copy of the list"
      ]
    },
    {
      "cell_type": "code",
      "execution_count": 105,
      "metadata": {},
      "outputs": [
        {
          "data": {
            "text/plain": [
              "True"
            ]
          },
          "execution_count": 105,
          "metadata": {},
          "output_type": "execute_result"
        }
      ],
      "source": [
        "list3 is names # This will return True, because list3 is a reference to the original list, not a copy of the list"
      ]
    },
    {
      "cell_type": "code",
      "execution_count": null,
      "metadata": {
        "colab": {
          "base_uri": "https://localhost:8080/"
        },
        "id": "5UK2RGH3cvHY",
        "outputId": "247f6058-23dd-48d9-e618-f2f35c39a3d5"
      },
      "outputs": [
        {
          "name": "stdout",
          "output_type": "stream",
          "text": [
            "['Ryan', 'NEW NAME', 'James']\n"
          ]
        }
      ],
      "source": [
        "list2.append(\"YAY!!\") # This will append \"YAY!!\" to the end of the list2\n",
        "# And list 1 was not changed\n",
        "print(names)"
      ]
    },
    {
      "cell_type": "code",
      "execution_count": 106,
      "metadata": {
        "id": "Oa3_clUMcvFP"
      },
      "outputs": [],
      "source": [
        "# This will create a new tuple\n",
        "t1 = (1, 'a', 6.233, 1, 1, 1)\n"
      ]
    },
    {
      "cell_type": "code",
      "execution_count": 108,
      "metadata": {
        "colab": {
          "base_uri": "https://localhost:8080/"
        },
        "id": "XEteTbBccvCO",
        "outputId": "a9f20076-513a-49b1-8975-97306f5b29fd"
      },
      "outputs": [
        {
          "data": {
            "text/plain": [
              "(1, 'a', 6.233, 1, 1, 1)"
            ]
          },
          "execution_count": 108,
          "metadata": {},
          "output_type": "execute_result"
        }
      ],
      "source": [
        "t1 # The round brackets are used to create a tuple"
      ]
    },
    {
      "cell_type": "code",
      "execution_count": 113,
      "metadata": {
        "colab": {
          "base_uri": "https://localhost:8080/"
        },
        "id": "bhaOh531hw5d",
        "outputId": "5dd07933-0f6d-4af7-d8d0-c0004b873479"
      },
      "outputs": [
        {
          "name": "stdout",
          "output_type": "stream",
          "text": [
            "0\n",
            "4\n"
          ]
        }
      ],
      "source": [
        "print(t1.count('1')) # This will return the number of times 1 appears in the tuple.  But notice that it is a string, not an integer\n",
        "print(t1.count(1)) # This will return the number of times 1 appears in the tuple."
      ]
    },
    {
      "cell_type": "code",
      "execution_count": 115,
      "metadata": {
        "colab": {
          "base_uri": "https://localhost:8080/"
        },
        "id": "unYuz4VoiEpo",
        "outputId": "5be2c0bf-4e7f-4c2d-c009-6dcdb926f174"
      },
      "outputs": [
        {
          "data": {
            "text/plain": [
              "2"
            ]
          },
          "execution_count": 115,
          "metadata": {},
          "output_type": "execute_result"
        }
      ],
      "source": [
        "t1.index(6.233) # This will return the index of the first occurrence of 6.233 in the tuple"
      ]
    },
    {
      "cell_type": "code",
      "execution_count": 129,
      "metadata": {
        "id": "bRN9DSQ8hwz9"
      },
      "outputs": [],
      "source": [
        "d1 = {\"first\": \"John\",\"last\": \"Doe\",\"age\": 25} # This will create a dictionary with keys and values"
      ]
    },
    {
      "cell_type": "code",
      "execution_count": 130,
      "metadata": {
        "colab": {
          "base_uri": "https://localhost:8080/"
        },
        "id": "rS-UiUwZFcVe",
        "outputId": "d067ce02-5bb1-4491-ac43-d5b62724a820"
      },
      "outputs": [
        {
          "name": "stdout",
          "output_type": "stream",
          "text": [
            "{'first': 'John', 'last': 'Doe', 'age': 25}\n"
          ]
        }
      ],
      "source": [
        "print(d1) # key is followed by a : then the value"
      ]
    },
    {
      "cell_type": "code",
      "execution_count": 131,
      "metadata": {
        "colab": {
          "base_uri": "https://localhost:8080/"
        },
        "id": "9lELKeJ7FcSj",
        "outputId": "42f0e6dc-3eab-4f10-ae9c-d520067892f0"
      },
      "outputs": [
        {
          "name": "stdout",
          "output_type": "stream",
          "text": [
            "25\n",
            "26\n"
          ]
        }
      ],
      "source": [
        "print(d1['age']) # Accessing elements in a dictionary using the key\n",
        "d1['age'] = 26 # Changing the value of the key 'age' to 26\n",
        "print(d1['age']) # Accessing elements in a dictionary using the key"
      ]
    },
    {
      "cell_type": "code",
      "execution_count": 132,
      "metadata": {
        "id": "iYo3j0ihF6a9"
      },
      "outputs": [
        {
          "name": "stdout",
          "output_type": "stream",
          "text": [
            "('age', 26)\n"
          ]
        }
      ],
      "source": [
        "age = d1.popitem() # This will remove the last key-value pair from the dictionary and return it as a tuple\n",
        "print(age) # This will print the last key-value pair in the dictionary"
      ]
    },
    {
      "cell_type": "code",
      "execution_count": 135,
      "metadata": {
        "colab": {
          "base_uri": "https://localhost:8080/"
        },
        "id": "izIKRsoiF6YT",
        "outputId": "ab1c8f32-e6ec-4e0f-d1b6-b4c0c7586f93"
      },
      "outputs": [
        {
          "name": "stdout",
          "output_type": "stream",
          "text": [
            "{'first': 'John', 'last': 'Doe'}\n"
          ]
        }
      ],
      "source": [
        "print(d1) # The dictionary is now missing the last key-value pair"
      ]
    },
    {
      "cell_type": "code",
      "execution_count": 137,
      "metadata": {
        "colab": {
          "base_uri": "https://localhost:8080/"
        },
        "id": "hMHtaDreF6Vb",
        "outputId": "527d2041-6a6e-49c9-e26b-4b3ebaf4bb4c"
      },
      "outputs": [
        {
          "name": "stdout",
          "output_type": "stream",
          "text": [
            "first\n",
            "last\n"
          ]
        }
      ],
      "source": [
        "# Iterating through the dictionary using a for loop. Returns the keys of the dictionary \n",
        "for x in d1:\n",
        "  print(x)"
      ]
    },
    {
      "cell_type": "code",
      "execution_count": 138,
      "metadata": {
        "colab": {
          "base_uri": "https://localhost:8080/"
        },
        "id": "0uR_iUCoGPqI",
        "outputId": "8106d0be-0a68-4732-d5c7-e1770a1373b9"
      },
      "outputs": [
        {
          "name": "stdout",
          "output_type": "stream",
          "text": [
            "John\n",
            "Doe\n"
          ]
        }
      ],
      "source": [
        "# Iterating through the dictionary using a for loop. Returns the values of the dictionary\n",
        "for x in d1.values():\n",
        "  print(x)"
      ]
    },
    {
      "cell_type": "code",
      "execution_count": 139,
      "metadata": {
        "id": "KjhRTfmqGPn4"
      },
      "outputs": [],
      "source": [
        "# Nested dictionaries are dictionaries within dictionaries\n",
        "# This is a dictionary with keys and values, where the values are dictionaries\n",
        "team = {\n",
        "\"goalie\" : {\n",
        "\"name\" : \"John\",\n",
        "\"year\" : 2\n",
        "},\n",
        "\"forward\" : {\n",
        "\"name\" : \"Jane\",\n",
        "\"year\" : 5\n",
        "},\n",
        "\"center\" : {\n",
        "\"name\" : \"Phillip\",\n",
        "\"year\" : 0\n",
        "}\n",
        "}"
      ]
    },
    {
      "cell_type": "code",
      "execution_count": null,
      "metadata": {
        "colab": {
          "base_uri": "https://localhost:8080/"
        },
        "id": "XkRiuiJnGPlH",
        "outputId": "8fabe193-4708-41bd-9bae-98e0c3a3cd65"
      },
      "outputs": [
        {
          "name": "stdout",
          "output_type": "stream",
          "text": [
            "Phillip\n"
          ]
        }
      ],
      "source": [
        "# Accessing a nested dictionary using the key\n",
        "print(team[\"center\"][\"name\"]) # This will return the name of the center"
      ]
    },
    {
      "cell_type": "code",
      "execution_count": 141,
      "metadata": {
        "colab": {
          "base_uri": "https://localhost:8080/"
        },
        "id": "s8YvOaTQGjnw",
        "outputId": "3c09003b-6b2a-4cb6-a5cb-b4d01738c89b"
      },
      "outputs": [
        {
          "name": "stdout",
          "output_type": "stream",
          "text": [
            "John\n",
            "2\n",
            "Jane\n",
            "5\n",
            "Phillip\n",
            "0\n"
          ]
        }
      ],
      "source": [
        "# Traversing the nested dictionary using a for loop\n",
        "for x in team.values():\n",
        "  for y in x.values():\n",
        "    print(y)"
      ]
    },
    {
      "cell_type": "code",
      "execution_count": 144,
      "metadata": {
        "id": "vWgsqToUGjiu"
      },
      "outputs": [],
      "source": [
        "# Define sets with {} brackets\n",
        "# Sets are unordered collections of unique elements\n",
        "set1 = {1, 2, 3, 4, 5}\n",
        "set2 = {4, 5, 6, 7, 8}"
      ]
    },
    {
      "cell_type": "markdown",
      "metadata": {
        "id": "O9gA0jo0I5dr"
      },
      "source": [
        "![differe.png](data:image/png;base64,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)"
      ]
    },
    {
      "cell_type": "code",
      "execution_count": 146,
      "metadata": {
        "id": "3A-mIq6jGjf1"
      },
      "outputs": [],
      "source": [
        "# set operations are very efficient in Python\n",
        "# they are implemented using hash tables, so they are very fast\n",
        "diff = set1.difference(set2) # This will return the difference between set1 and set2"
      ]
    },
    {
      "cell_type": "code",
      "execution_count": 147,
      "metadata": {
        "colab": {
          "base_uri": "https://localhost:8080/"
        },
        "id": "23UiL1rKHOcF",
        "outputId": "611657e6-ab87-475d-fe86-f0009ada4a9d"
      },
      "outputs": [
        {
          "data": {
            "text/plain": [
              "{1, 2, 3}"
            ]
          },
          "execution_count": 147,
          "metadata": {},
          "output_type": "execute_result"
        }
      ],
      "source": [
        "diff"
      ]
    },
    {
      "cell_type": "markdown",
      "metadata": {
        "id": "K89X5iMcIr93"
      },
      "source": [
        "![sdiffere1.png](data:image/png;base64,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)"
      ]
    },
    {
      "cell_type": "code",
      "execution_count": 148,
      "metadata": {
        "id": "Y-EvW27mHSzu"
      },
      "outputs": [],
      "source": [
        "# symmetric difference returns the elements that are in set1 or set2 but not in both\n",
        "diff2 = set2.symmetric_difference(set1)"
      ]
    },
    {
      "cell_type": "code",
      "execution_count": 149,
      "metadata": {
        "colab": {
          "base_uri": "https://localhost:8080/"
        },
        "id": "mLRKM3yYHSxM",
        "outputId": "ac96b3d4-480f-4c93-e477-0447cd7f1d6e"
      },
      "outputs": [
        {
          "data": {
            "text/plain": [
              "{1, 2, 3, 6, 7, 8}"
            ]
          },
          "execution_count": 149,
          "metadata": {},
          "output_type": "execute_result"
        }
      ],
      "source": [
        "diff2"
      ]
    },
    {
      "cell_type": "code",
      "execution_count": null,
      "metadata": {
        "id": "PpWevK8cRNqc"
      },
      "outputs": [
        {
          "name": "stdout",
          "output_type": "stream",
          "text": [
            "2\n",
            "4\n",
            "6\n",
            "8\n",
            "8\n",
            "1\n",
            "2\n"
          ]
        }
      ],
      "source": [
        "j = iter([2,4,6,8])\n",
        "for x in j:\n",
        "  print(x)\n",
        "\n",
        "print(x) # This will return the last element in the iterator\n",
        "\n",
        "k = iter([1,2,3,4])\n",
        "print(next(k)) # This will return the next element in the iterator\n",
        "print(next(k)) # This will return the next element in the iterator"
      ]
    },
    {
      "cell_type": "markdown",
      "metadata": {
        "id": "WOD-CYnfJMVJ"
      },
      "source": [
        "### ***Conditionals and Loops***"
      ]
    },
    {
      "cell_type": "code",
      "execution_count": null,
      "metadata": {
        "colab": {
          "base_uri": "https://localhost:8080/"
        },
        "id": "u1nbjJZKYksm",
        "outputId": "a4b2bf87-27a7-4c39-e45f-e4acb45a01e1"
      },
      "outputs": [
        {
          "name": "stdout",
          "output_type": "stream",
          "text": [
            "False\n",
            "True\n",
            "True\n",
            "True\n",
            "False\n",
            "0\n"
          ]
        }
      ],
      "source": [
        "print(1 > 9)\n",
        "print(9 == 9)\n",
        "print('a'=='a')\n",
        "print('b'>='a')\n",
        "print('0'>='a')\n",
        "print(int(10 < 9))"
      ]
    },
    {
      "cell_type": "code",
      "execution_count": 152,
      "metadata": {
        "colab": {
          "base_uri": "https://localhost:8080/"
        },
        "id": "KuOz2qZK1YOl",
        "outputId": "2b29aa56-c711-4cfb-87f4-9360b3ac34e7"
      },
      "outputs": [],
      "source": [
        "# The input function is used to take input from the user\n",
        "# The input function will return a value of type string, so you need to cast it to the desired type\n",
        "a = int(input(\"Enter A:\"))\n",
        "b = int(input(\"Enter B:\"))"
      ]
    },
    {
      "cell_type": "code",
      "execution_count": 157,
      "metadata": {
        "colab": {
          "base_uri": "https://localhost:8080/"
        },
        "id": "XDzjh2AJYkqY",
        "outputId": "40571879-f33f-4a0a-f0e7-e486a0a3bd67"
      },
      "outputs": [
        {
          "name": "stdout",
          "output_type": "stream",
          "text": [
            "A is 6, B is 4\n",
            "a is greater than b\n"
          ]
        }
      ],
      "source": [
        "print(f\"A is {a}, B is {b}\") # This will print the values of a and b\n",
        "\n",
        "# If statements are used to control the flow of the program based on conditions\n",
        "# The if statement will execute the block of code if the condition is true\n",
        "# The elif statement will execute the block of code if the condition is true\n",
        "# The else statement will execute the block of code if the condition is false\n",
        "if b > a:\n",
        "  print(\"b is greater than a\")\n",
        "elif a == b:\n",
        "  print(\"a and b are equal\")\n",
        "else:\n",
        "  print(\"a is greater than b\")\n"
      ]
    },
    {
      "cell_type": "code",
      "execution_count": 158,
      "metadata": {
        "id": "Pukxern-Yknu"
      },
      "outputs": [
        {
          "name": "stdout",
          "output_type": "stream",
          "text": [
            "a is greater than b\n"
          ]
        }
      ],
      "source": [
        "if a > b: print(\"a is greater than b\")"
      ]
    },
    {
      "cell_type": "code",
      "execution_count": null,
      "metadata": {
        "colab": {
          "base_uri": "https://localhost:8080/"
        },
        "id": "3C1VwpbrYklM",
        "outputId": "7d12ef06-a9c4-4984-87f7-f470f0c03ab4"
      },
      "outputs": [
        {
          "name": "stdout",
          "output_type": "stream",
          "text": [
            "A\n"
          ]
        }
      ],
      "source": [
        "print(\"A\") if a > b else print(\"=\") if a == b else print(\"B\")\n"
      ]
    },
    {
      "cell_type": "code",
      "execution_count": 161,
      "metadata": {
        "id": "kGmpk8pl3eg_"
      },
      "outputs": [],
      "source": [
        "adj = [\"red\", \"big\", \"tasty\"]\n",
        "fruits = [\"apple\", \"banana\", \"cherry\"]"
      ]
    },
    {
      "cell_type": "code",
      "execution_count": 162,
      "metadata": {
        "colab": {
          "base_uri": "https://localhost:8080/"
        },
        "id": "MA6M94WD2nqC",
        "outputId": "e0c05662-785c-41f2-9dee-db88f187f500"
      },
      "outputs": [
        {
          "name": "stdout",
          "output_type": "stream",
          "text": [
            "red apple\n",
            "red banana\n",
            "red cherry\n",
            "big apple\n",
            "big banana\n",
            "big cherry\n",
            "tasty apple\n",
            "tasty banana\n",
            "tasty cherry\n"
          ]
        }
      ],
      "source": [
        "# For loops are used to iterate through a sequence of elements\n",
        "# The for loop will iterate through the elements in the list\n",
        "for x in adj:\n",
        "  for y in fruits:\n",
        "    print(x, y)\n"
      ]
    },
    {
      "cell_type": "markdown",
      "metadata": {
        "id": "dYBxulhs3m5X"
      },
      "source": [
        "In BigO notation this is O^2"
      ]
    },
    {
      "cell_type": "code",
      "execution_count": 46,
      "metadata": {
        "colab": {
          "base_uri": "https://localhost:8080/"
        },
        "id": "misUeeR33kkP",
        "outputId": "32dece61-6c0f-4380-cf9e-e3888dc15db4"
      },
      "outputs": [
        {
          "name": "stdout",
          "output_type": "stream",
          "text": [
            "         o\n",
            "        ooo\n",
            "       ooooo\n",
            "      ooooooo\n",
            "     ooooooooo\n",
            "    ooooooooooo\n",
            "   ooooooooooooo\n",
            "  ooooooooooooooo\n",
            " ooooooooooooooooo\n",
            "ooooooooooooooooooo\n"
          ]
        }
      ],
      "source": [
        "# This code will print a triangle of \"o\" characters\n",
        "# with a base width of 20 characters.\n",
        "# The triangle will be centered and each row will contain\n",
        "# an odd number of \"o\" characters, starting from 1 and\n",
        "# increasing by 2 for each subsequent row.\n",
        "# The number of rows is defined by the variable `rows`.\n",
        "\n",
        "rows = 20\n",
        "for i in range(1, rows + 1, 2):\n",
        "  print((int((rows - i) / 2) * \" \") + (i * \"o\"))"
      ]
    },
    {
      "cell_type": "code",
      "execution_count": 165,
      "metadata": {
        "colab": {
          "base_uri": "https://localhost:8080/"
        },
        "id": "Ab1hRbH6VMIB",
        "outputId": "128e8f7a-acd1-4edf-8c18-006378aee2c9"
      },
      "outputs": [
        {
          "name": "stdout",
          "output_type": "stream",
          "text": [
            "You didnt enter an integer!!\n",
            "You didnt enter an integer!!\n",
            "Jimbo is 4 years old\n",
            "My name is Jimbo, I am 4.0000000\n"
          ]
        }
      ],
      "source": [
        "# This simulated a do while loop, where the code will run at least once\n",
        "# and then check the condition\n",
        "\n",
        "name = input(\"Enter your value: \")\n",
        "while True:\n",
        "    try:\n",
        "        age = int(input(\"Enter your age: \"))\n",
        "        break\n",
        "    except:\n",
        "        print(\"You didnt enter an integer!!\")\n",
        "\n",
        "print (\"{} is {} years old\".format(name, age))\n",
        "print(f\"My name is {name}, I am {age:.7f}\")"
      ]
    },
    {
      "cell_type": "code",
      "execution_count": null,
      "metadata": {},
      "outputs": [],
      "source": [
        "rows = 20\n",
        "for i in range(20, 1, 2):\n",
        "  print((int(rows) * \" \") + (i * \"o\"))"
      ]
    },
    {
      "cell_type": "markdown",
      "metadata": {},
      "source": [
        "Difference between parameters and arguments?  parameters are defined by the function, and argument is passed to the function."
      ]
    },
    {
      "cell_type": "code",
      "execution_count": 167,
      "metadata": {},
      "outputs": [
        {
          "name": "stdout",
          "output_type": "stream",
          "text": [
            "Emil is my name\n",
            "Tobias is my name\n",
            "Linus is my name\n"
          ]
        },
        {
          "ename": "TypeError",
          "evalue": "my_function() missing 1 required positional argument: 'name'",
          "output_type": "error",
          "traceback": [
            "\u001b[31m---------------------------------------------------------------------------\u001b[39m",
            "\u001b[31mTypeError\u001b[39m                                 Traceback (most recent call last)",
            "\u001b[36mCell\u001b[39m\u001b[36m \u001b[39m\u001b[32mIn[167]\u001b[39m\u001b[32m, line 8\u001b[39m\n\u001b[32m      6\u001b[39m my_function(\u001b[33m\"\u001b[39m\u001b[33mTobias\u001b[39m\u001b[33m\"\u001b[39m)\n\u001b[32m      7\u001b[39m my_function(\u001b[33m\"\u001b[39m\u001b[33mLinus\u001b[39m\u001b[33m\"\u001b[39m)\n\u001b[32m----> \u001b[39m\u001b[32m8\u001b[39m \u001b[43mmy_function\u001b[49m\u001b[43m(\u001b[49m\u001b[43m)\u001b[49m \u001b[38;5;66;03m# This will return an error because the function is not defined to take no arguments\u001b[39;00m\n",
            "\u001b[31mTypeError\u001b[39m: my_function() missing 1 required positional argument: 'name'"
          ]
        }
      ],
      "source": [
        "def my_function(name):\n",
        "  print(name + \" is my name\")\n",
        "  return\n",
        "\n",
        "my_function(\"Emil\")\n",
        "my_function(\"Tobias\")\n",
        "my_function(\"Linus\")\n",
        "my_function() # This will return an error because the function is not defined to take no arguments"
      ]
    },
    {
      "cell_type": "code",
      "execution_count": 168,
      "metadata": {},
      "outputs": [
        {
          "name": "stdout",
          "output_type": "stream",
          "text": [
            "Kip is my name\n"
          ]
        }
      ],
      "source": [
        "my_function(input(\"Enter your name: \")) # Taking input from the user and passing it to the function"
      ]
    },
    {
      "cell_type": "code",
      "execution_count": 171,
      "metadata": {
        "id": "M4q6QXV-LLb7"
      },
      "outputs": [],
      "source": [
        "def add_stuff(a,b,c, /):\n",
        "    \"\"\"\n",
        "    This function adds three numbers together.\n",
        "\n",
        "    Parameters:\n",
        "        a (int): The first number.\n",
        "        b (int): The second number.\n",
        "        c (int): The third number.\n",
        "\n",
        "    Returns:\n",
        "        int: The sum of a, b, and c.\n",
        "    \"\"\"\n",
        "    return a + b + c # This will return the sum of a, b, and c"
      ]
    },
    {
      "cell_type": "code",
      "execution_count": null,
      "metadata": {
        "colab": {
          "base_uri": "https://localhost:8080/",
          "height": 141
        },
        "id": "lLfBeBjCLYtV",
        "outputId": "274dc93c-99ee-49b4-9f89-f7c617714cae"
      },
      "outputs": [
        {
          "data": {
            "text/plain": [
              "30"
            ]
          },
          "execution_count": 172,
          "metadata": {},
          "output_type": "execute_result"
        }
      ],
      "source": [
        "add_stuff(9,10,11)"
      ]
    },
    {
      "cell_type": "code",
      "execution_count": 173,
      "metadata": {},
      "outputs": [
        {
          "ename": "TypeError",
          "evalue": "add_stuff() got some positional-only arguments passed as keyword arguments: 'a, b, c'",
          "output_type": "error",
          "traceback": [
            "\u001b[31m---------------------------------------------------------------------------\u001b[39m",
            "\u001b[31mTypeError\u001b[39m                                 Traceback (most recent call last)",
            "\u001b[36mCell\u001b[39m\u001b[36m \u001b[39m\u001b[32mIn[173]\u001b[39m\u001b[32m, line 1\u001b[39m\n\u001b[32m----> \u001b[39m\u001b[32m1\u001b[39m \u001b[43madd_stuff\u001b[49m\u001b[43m(\u001b[49m\u001b[43mb\u001b[49m\u001b[43m=\u001b[49m\u001b[32;43m1\u001b[39;49m\u001b[43m,\u001b[49m\u001b[43m \u001b[49m\u001b[43mc\u001b[49m\u001b[43m=\u001b[49m\u001b[32;43m2\u001b[39;49m\u001b[43m,\u001b[49m\u001b[43m \u001b[49m\u001b[43ma\u001b[49m\u001b[43m=\u001b[49m\u001b[32;43m3\u001b[39;49m\u001b[43m)\u001b[49m \u001b[38;5;66;03m# This will return the sum of a, b, and c.  The order of the arguments does not matter if you use keyword arguments\u001b[39;00m\n",
            "\u001b[31mTypeError\u001b[39m: add_stuff() got some positional-only arguments passed as keyword arguments: 'a, b, c'"
          ]
        }
      ],
      "source": [
        "add_stuff(b=1, c=2, a=3) # This will return the sum of a, b, and c.  The order of the arguments does not matter if you use keyword arguments"
      ]
    },
    {
      "cell_type": "code",
      "execution_count": 175,
      "metadata": {},
      "outputs": [
        {
          "name": "stdout",
          "output_type": "stream",
          "text": [
            "9\n",
            "10\n",
            "11\n"
          ]
        }
      ],
      "source": [
        "# You can mix positional and keyword arguments, but the positional arguments must come first\n",
        "def add_stuff(first, second, third):\n",
        "  print(first)\n",
        "  print(second)\n",
        "  print(third)\n",
        "  return\n",
        "\n",
        "add_stuff(9, 10, third=11)"
      ]
    },
    {
      "cell_type": "markdown",
      "metadata": {},
      "source": [
        "Valid Order in Function Definitions\n",
        "Positional Parameters (normal arguments)\n",
        "\n",
        "*args (captures extra positional arguments)\n",
        "\n",
        "Keyword-only Parameters (defined after *args)\n",
        "\n",
        "**kwargs (captures extra keyword arguments)"
      ]
    },
    {
      "cell_type": "code",
      "execution_count": 77,
      "metadata": {},
      "outputs": [
        {
          "name": "stdout",
          "output_type": "stream",
          "text": [
            "a: 1, b: 2\n",
            "args: (3, 4, 5)\n",
            "c: 30, d: 90\n",
            "kwargs: {'e': 50, 'f': 60}\n"
          ]
        }
      ],
      "source": [
        "# Function with variable-length arguments\n",
        "# This function takes a variable number of positional and keyword arguments.\n",
        "# The *args collects additional positional arguments into a tuple,\n",
        "# and **kwargs collects additional keyword arguments into a dictionary.\n",
        "\n",
        "def my_function(a, b, *args, c=10, d=20, **kwargs):\n",
        "    print(f\"a: {a}, b: {b}\")\n",
        "    print(f\"args: {args}\")\n",
        "    print(f\"c: {c}, d: {d}\")\n",
        "    print(f\"kwargs: {kwargs}\")\n",
        "\n",
        "# Calling the function\n",
        "my_function(1, 2, 3, 4, 5, c=30, d=90, e=50, f=60)"
      ]
    },
    {
      "cell_type": "markdown",
      "metadata": {
        "id": "7Tfk3vOtTwb_"
      },
      "source": [
        "Scoping of variables is important when functions and objects enclose data"
      ]
    },
    {
      "cell_type": "code",
      "execution_count": 178,
      "metadata": {
        "id": "fBSaXwBGMWsZ"
      },
      "outputs": [
        {
          "name": "stdout",
          "output_type": "stream",
          "text": [
            "100\n",
            "10\n",
            "cherry\n"
          ]
        },
        {
          "ename": "NameError",
          "evalue": "name 'p' is not defined",
          "output_type": "error",
          "traceback": [
            "\u001b[31m---------------------------------------------------------------------------\u001b[39m",
            "\u001b[31mNameError\u001b[39m                                 Traceback (most recent call last)",
            "\u001b[36mCell\u001b[39m\u001b[36m \u001b[39m\u001b[32mIn[178]\u001b[39m\u001b[32m, line 16\u001b[39m\n\u001b[32m     14\u001b[39m global_test()\n\u001b[32m     15\u001b[39m nonglobal_test()\n\u001b[32m---> \u001b[39m\u001b[32m16\u001b[39m \u001b[38;5;28mprint\u001b[39m(\u001b[43mp\u001b[49m) \u001b[38;5;66;03m# This will return an error because y is not defined in the global scope\u001b[39;00m\n",
            "\u001b[31mNameError\u001b[39m: name 'p' is not defined"
          ]
        }
      ],
      "source": [
        "x = 100\n",
        "\n",
        "def global_test():\n",
        "    global x # This will declare x as a global variable\n",
        "    # This will create a new variable x in the global scope\n",
        "    x = 10 # This will create a new variable x in the local scope\n",
        "    print(x)\n",
        "\n",
        "def nonglobal_test():\n",
        "    p = 5\n",
        "    print(y)\n",
        "\n",
        "print(x) # This will print the value of x in the global scope\n",
        "global_test()\n",
        "nonglobal_test()\n",
        "print(p) # This will return an error because y is not defined in the global scope"
      ]
    },
    {
      "cell_type": "markdown",
      "metadata": {
        "id": "H_AZ-oHqViTk"
      },
      "source": [
        "Will allow a variable number of arguments to be made"
      ]
    },
    {
      "cell_type": "code",
      "execution_count": 181,
      "metadata": {
        "colab": {
          "base_uri": "https://localhost:8080/"
        },
        "id": "Wy8J3r36iYcU",
        "outputId": "f680b45a-54b1-46f7-b83a-7cd6ac97aeae"
      },
      "outputs": [
        {
          "name": "stdout",
          "output_type": "stream",
          "text": [
            "The youngest child is Tobias\n",
            "('Emil', 'Tobias', 'Linus')\n",
            "The first kid listed is Emil\n"
          ]
        }
      ],
      "source": [
        "def my_function2(*kids):\n",
        "  print(\"The youngest child is \"+ kids[-2]) # This will return the second to last element in the list of kids\n",
        "  print(kids)\n",
        "  print(\"The first kid listed is \" + kids[0])\n",
        "  return\n",
        "\n",
        "my_function2(\"Emil\", \"Tobias\", \"Linus\") # Allows for variable multiple arguments to be passed to the function\n"
      ]
    },
    {
      "cell_type": "markdown",
      "metadata": {
        "id": "ifjvnXUPVxsj"
      },
      "source": [
        "kwargs or key word arguments can allow for flexibility"
      ]
    },
    {
      "cell_type": "code",
      "execution_count": 182,
      "metadata": {
        "colab": {
          "base_uri": "https://localhost:8080/"
        },
        "id": "98khqID3jF20",
        "outputId": "e1f661ca-903d-4c94-ef89-02254ddd5fdf"
      },
      "outputs": [
        {
          "name": "stdout",
          "output_type": "stream",
          "text": [
            "Tobias is the middle child\n"
          ]
        }
      ],
      "source": [
        "def my_function3(child2, child1, child3):\n",
        "  print(child2 + \" is the middle child\")\n",
        "  return\n",
        "\n",
        "my_function3(child1 = \"Emil\", child2 = \"Tobias\", child3 = \"Linus\") # Key value pairs can be used to pass arguments to the function in any order"
      ]
    },
    {
      "cell_type": "code",
      "execution_count": 183,
      "metadata": {
        "colab": {
          "base_uri": "https://localhost:8080/"
        },
        "id": "8wVSumi6jF0b",
        "outputId": "904a55e7-b30d-4949-da0f-2db919aa7439"
      },
      "outputs": [
        {
          "name": "stdout",
          "output_type": "stream",
          "text": [
            "I am from Sweden\n",
            "I am from India\n",
            "I am from Norway\n",
            "I am from Brazil\n"
          ]
        }
      ],
      "source": [
        "def my_default_function(country = \"Norway\"):\n",
        "  print(\"I am from \" + country)\n",
        "\n",
        "my_default_function(\"Sweden\")\n",
        "my_default_function(\"India\")\n",
        "my_default_function() # This will use the default value of the function, which is \"Norway\"\n",
        "my_default_function(\"Brazil\")"
      ]
    },
    {
      "cell_type": "code",
      "execution_count": 184,
      "metadata": {
        "colab": {
          "base_uri": "https://localhost:8080/"
        },
        "id": "xENI2ijPjFxC",
        "outputId": "3da468eb-a35d-4573-a728-a4b9e51d012f"
      },
      "outputs": [
        {
          "name": "stdout",
          "output_type": "stream",
          "text": [
            "-11\n"
          ]
        }
      ],
      "source": [
        "k = lambda a,b,c : a + b - c # This is a lambda function that takes three arguments and returns the sum of the first two arguments minus the third argument\n",
        "\n",
        "print(k(a=5,b=7,c=23))\n"
      ]
    },
    {
      "cell_type": "code",
      "execution_count": 179,
      "metadata": {
        "colab": {
          "base_uri": "https://localhost:8080/"
        },
        "id": "qrE66lsjQyFG",
        "outputId": "1474e9f6-a723-42da-d489-e698de60fa9c"
      },
      "outputs": [
        {
          "data": {
            "text/plain": [
              "34"
            ]
          },
          "execution_count": 179,
          "metadata": {},
          "output_type": "execute_result"
        }
      ],
      "source": [
        "# Recursion is a programming technique where a function calls itself to solve a problem.\n",
        "# It is often used to solve problems that can be broken down into smaller subproblems.\n",
        "def fibonacci(k):\n",
        "    #This is the BASE CASE\n",
        "    if k == 0:\n",
        "        return 0\n",
        "    elif k == 1 or k == 2:\n",
        "        #This is the RECURSIVE CASE\n",
        "        return 1\n",
        "    else:\n",
        "        #This is the RECURSIVE CASE\n",
        "        return fibonacci(k-1) + fibonacci(k-2)\n",
        "\n",
        "fibonacci(9)"
      ]
    },
    {
      "cell_type": "code",
      "execution_count": 186,
      "metadata": {
        "id": "kFn77mKsCOYZ"
      },
      "outputs": [
        {
          "name": "stdout",
          "output_type": "stream",
          "text": [
            "2023 Toyota Corolla with 4 doors\n"
          ]
        }
      ],
      "source": [
        "# Parent class\n",
        "class Vehicle:\n",
        "    def __init__(self, brand, model, year):\n",
        "        self.brand = brand\n",
        "        self.model = model\n",
        "        self.year = year\n",
        "\n",
        "    def display_info(self):\n",
        "        return f\"{self.year} {self.brand} {self.model}\"\n",
        "\n",
        "# Child class\n",
        "class Car(Vehicle):\n",
        "    def __init__(self, brand, model, year, doors):\n",
        "        super().__init__(brand, model, year)  # Call parent constructor\n",
        "        self.doors = doors\n",
        "\n",
        "    def display_info(self):\n",
        "        return f\"{super().display_info()} with {self.doors} doors\"\n",
        "\n",
        "# Example usage\n",
        "my_car = Car(\"Toyota\", \"Corolla\", 2023, 4)\n",
        "print(my_car.display_info())  # Output: 2023 Toyota Corolla with 4 doors\n"
      ]
    },
    {
      "cell_type": "code",
      "execution_count": 185,
      "metadata": {
        "id": "DeU3z33JCORI"
      },
      "outputs": [],
      "source": [
        "# Another example of a function that has logic within it\n",
        "def string_reverse(str1):\n",
        "    '''\n",
        "    Returns the reversed String.\n",
        "\n",
        "    Parameters:\n",
        "        str1 (str):The string which is to be reversed.\n",
        "\n",
        "    Returns:\n",
        "        reverse(str1):The string which gets reversed.\n",
        "    '''\n",
        "\n",
        "    reverse_str1 = ''\n",
        "    i = len(str1)\n",
        "    while i > 0:\n",
        "        reverse_str1 += str1[i - 1]\n",
        "        i = i- 1\n",
        "    return reverse_str1"
      ]
    },
    {
      "cell_type": "code",
      "execution_count": null,
      "metadata": {
        "colab": {
          "base_uri": "https://localhost:8080/"
        },
        "id": "eUW1JVwNXvEO",
        "outputId": "c162b607-271b-4122-b750-9d12c7f8f9cb"
      },
      "outputs": [
        {
          "name": "stdout",
          "output_type": "stream",
          "text": [
            "Help on function string_reverse in module __main__:\n",
            "\n",
            "string_reverse(str1)\n",
            "    Returns the reversed String.\n",
            "    \n",
            "    Parameters:\n",
            "        str1 (str):The string which is to be reversed.\n",
            "    \n",
            "    Returns:\n",
            "        reverse(str1):The string which gets reversed.\n",
            "\n"
          ]
        }
      ],
      "source": [
        "help(string_reverse)"
      ]
    },
    {
      "cell_type": "markdown",
      "metadata": {
        "id": "EHLC3PuQ7_KG"
      },
      "source": [
        "### ***Data Loading***"
      ]
    },
    {
      "cell_type": "code",
      "execution_count": 8,
      "metadata": {
        "id": "cybXfmH9eQd4"
      },
      "outputs": [],
      "source": [
        "df_bos = pd.read_csv('/Users/cleme/code/SEAS8416DC8/data/Boston.csv')\n"
      ]
    },
    {
      "cell_type": "code",
      "execution_count": 9,
      "metadata": {
        "colab": {
          "base_uri": "https://localhost:8080/"
        },
        "id": "bpDOKEtI1Pmo",
        "outputId": "3454da57-283a-413b-e852-ca5481539fe5"
      },
      "outputs": [
        {
          "data": {
            "text/plain": [
              "Index(['Unnamed: 0', 'crim', 'zn', 'indus', 'chas', 'nox', 'rm', 'age', 'dis',\n",
              "       'rad', 'tax', 'ptratio', 'lstat', 'medv'],\n",
              "      dtype='object')"
            ]
          },
          "execution_count": 9,
          "metadata": {},
          "output_type": "execute_result"
        }
      ],
      "source": [
        "df_bos.columns"
      ]
    },
    {
      "cell_type": "code",
      "execution_count": 10,
      "metadata": {
        "colab": {
          "base_uri": "https://localhost:8080/"
        },
        "id": "Ls0IWzkD1Pju",
        "outputId": "f6e260f6-02a7-4849-dca7-c6d6157bd185"
      },
      "outputs": [
        {
          "name": "stdout",
          "output_type": "stream",
          "text": [
            "Index(['Unnamed: 0', 'crim', 'zn', 'indus', 'chas', 'nox', 'rm', 'age', 'dis',\n",
            "       'rad', 'tax', 'ptratio', 'lstat', 'medv'],\n",
            "      dtype='object')\n"
          ]
        }
      ],
      "source": [
        "print(df_bos.columns)"
      ]
    },
    {
      "cell_type": "code",
      "execution_count": 11,
      "metadata": {
        "colab": {
          "base_uri": "https://localhost:8080/"
        },
        "id": "e47Y8xJP1lZC",
        "outputId": "5cff9340-9b04-4b0c-d477-7f6bd09d5ac0"
      },
      "outputs": [
        {
          "name": "stdout",
          "output_type": "stream",
          "text": [
            "Unnamed: 0\n",
            "crim\n",
            "zn\n",
            "indus\n",
            "chas\n",
            "nox\n",
            "rm\n",
            "age\n",
            "dis\n",
            "rad\n",
            "tax\n",
            "ptratio\n",
            "lstat\n",
            "medv\n"
          ]
        }
      ],
      "source": [
        "for i in df_bos.columns:\n",
        "  print(i)"
      ]
    },
    {
      "cell_type": "code",
      "execution_count": 12,
      "metadata": {
        "colab": {
          "base_uri": "https://localhost:8080/"
        },
        "id": "H0KpJlxEeVkZ",
        "outputId": "0834d601-8b79-4b1c-da1f-01aba7400b29"
      },
      "outputs": [
        {
          "data": {
            "text/plain": [
              "np.float64(408.2371541501976)"
            ]
          },
          "execution_count": 12,
          "metadata": {},
          "output_type": "execute_result"
        }
      ],
      "source": [
        "df_bos['tax'].mean()"
      ]
    },
    {
      "cell_type": "code",
      "execution_count": 13,
      "metadata": {
        "colab": {
          "base_uri": "https://localhost:8080/",
          "height": 337
        },
        "id": "mIbdm-n7wInp",
        "outputId": "7568376c-b94a-4722-f7da-3f94722f162f"
      },
      "outputs": [
        {
          "data": {
            "text/html": [
              "<div>\n",
              "<style scoped>\n",
              "    .dataframe tbody tr th:only-of-type {\n",
              "        vertical-align: middle;\n",
              "    }\n",
              "\n",
              "    .dataframe tbody tr th {\n",
              "        vertical-align: top;\n",
              "    }\n",
              "\n",
              "    .dataframe thead th {\n",
              "        text-align: right;\n",
              "    }\n",
              "</style>\n",
              "<table border=\"1\" class=\"dataframe\">\n",
              "  <thead>\n",
              "    <tr style=\"text-align: right;\">\n",
              "      <th></th>\n",
              "      <th>Unnamed: 0</th>\n",
              "      <th>crim</th>\n",
              "      <th>zn</th>\n",
              "      <th>indus</th>\n",
              "      <th>chas</th>\n",
              "      <th>nox</th>\n",
              "      <th>rm</th>\n",
              "      <th>age</th>\n",
              "      <th>dis</th>\n",
              "      <th>rad</th>\n",
              "      <th>tax</th>\n",
              "      <th>ptratio</th>\n",
              "      <th>lstat</th>\n",
              "      <th>medv</th>\n",
              "    </tr>\n",
              "  </thead>\n",
              "  <tbody>\n",
              "    <tr>\n",
              "      <th>count</th>\n",
              "      <td>506.000000</td>\n",
              "      <td>506.000000</td>\n",
              "      <td>506.000000</td>\n",
              "      <td>506.000000</td>\n",
              "      <td>506.000000</td>\n",
              "      <td>506.000000</td>\n",
              "      <td>506.000000</td>\n",
              "      <td>506.000000</td>\n",
              "      <td>506.000000</td>\n",
              "      <td>506.000000</td>\n",
              "      <td>506.000000</td>\n",
              "      <td>506.000000</td>\n",
              "      <td>506.000000</td>\n",
              "      <td>506.000000</td>\n",
              "    </tr>\n",
              "    <tr>\n",
              "      <th>mean</th>\n",
              "      <td>253.500000</td>\n",
              "      <td>3.613524</td>\n",
              "      <td>11.363636</td>\n",
              "      <td>11.136779</td>\n",
              "      <td>0.069170</td>\n",
              "      <td>0.554695</td>\n",
              "      <td>6.284634</td>\n",
              "      <td>68.574901</td>\n",
              "      <td>3.795043</td>\n",
              "      <td>9.549407</td>\n",
              "      <td>408.237154</td>\n",
              "      <td>18.455534</td>\n",
              "      <td>12.653063</td>\n",
              "      <td>22.532806</td>\n",
              "    </tr>\n",
              "    <tr>\n",
              "      <th>std</th>\n",
              "      <td>146.213884</td>\n",
              "      <td>8.601545</td>\n",
              "      <td>23.322453</td>\n",
              "      <td>6.860353</td>\n",
              "      <td>0.253994</td>\n",
              "      <td>0.115878</td>\n",
              "      <td>0.702617</td>\n",
              "      <td>28.148861</td>\n",
              "      <td>2.105710</td>\n",
              "      <td>8.707259</td>\n",
              "      <td>168.537116</td>\n",
              "      <td>2.164946</td>\n",
              "      <td>7.141062</td>\n",
              "      <td>9.197104</td>\n",
              "    </tr>\n",
              "    <tr>\n",
              "      <th>min</th>\n",
              "      <td>1.000000</td>\n",
              "      <td>0.006320</td>\n",
              "      <td>0.000000</td>\n",
              "      <td>0.460000</td>\n",
              "      <td>0.000000</td>\n",
              "      <td>0.385000</td>\n",
              "      <td>3.561000</td>\n",
              "      <td>2.900000</td>\n",
              "      <td>1.129600</td>\n",
              "      <td>1.000000</td>\n",
              "      <td>187.000000</td>\n",
              "      <td>12.600000</td>\n",
              "      <td>1.730000</td>\n",
              "      <td>5.000000</td>\n",
              "    </tr>\n",
              "    <tr>\n",
              "      <th>25%</th>\n",
              "      <td>127.250000</td>\n",
              "      <td>0.082045</td>\n",
              "      <td>0.000000</td>\n",
              "      <td>5.190000</td>\n",
              "      <td>0.000000</td>\n",
              "      <td>0.449000</td>\n",
              "      <td>5.885500</td>\n",
              "      <td>45.025000</td>\n",
              "      <td>2.100175</td>\n",
              "      <td>4.000000</td>\n",
              "      <td>279.000000</td>\n",
              "      <td>17.400000</td>\n",
              "      <td>6.950000</td>\n",
              "      <td>17.025000</td>\n",
              "    </tr>\n",
              "    <tr>\n",
              "      <th>50%</th>\n",
              "      <td>253.500000</td>\n",
              "      <td>0.256510</td>\n",
              "      <td>0.000000</td>\n",
              "      <td>9.690000</td>\n",
              "      <td>0.000000</td>\n",
              "      <td>0.538000</td>\n",
              "      <td>6.208500</td>\n",
              "      <td>77.500000</td>\n",
              "      <td>3.207450</td>\n",
              "      <td>5.000000</td>\n",
              "      <td>330.000000</td>\n",
              "      <td>19.050000</td>\n",
              "      <td>11.360000</td>\n",
              "      <td>21.200000</td>\n",
              "    </tr>\n",
              "    <tr>\n",
              "      <th>75%</th>\n",
              "      <td>379.750000</td>\n",
              "      <td>3.677083</td>\n",
              "      <td>12.500000</td>\n",
              "      <td>18.100000</td>\n",
              "      <td>0.000000</td>\n",
              "      <td>0.624000</td>\n",
              "      <td>6.623500</td>\n",
              "      <td>94.075000</td>\n",
              "      <td>5.188425</td>\n",
              "      <td>24.000000</td>\n",
              "      <td>666.000000</td>\n",
              "      <td>20.200000</td>\n",
              "      <td>16.955000</td>\n",
              "      <td>25.000000</td>\n",
              "    </tr>\n",
              "    <tr>\n",
              "      <th>max</th>\n",
              "      <td>506.000000</td>\n",
              "      <td>88.976200</td>\n",
              "      <td>100.000000</td>\n",
              "      <td>27.740000</td>\n",
              "      <td>1.000000</td>\n",
              "      <td>0.871000</td>\n",
              "      <td>8.780000</td>\n",
              "      <td>100.000000</td>\n",
              "      <td>12.126500</td>\n",
              "      <td>24.000000</td>\n",
              "      <td>711.000000</td>\n",
              "      <td>22.000000</td>\n",
              "      <td>37.970000</td>\n",
              "      <td>50.000000</td>\n",
              "    </tr>\n",
              "  </tbody>\n",
              "</table>\n",
              "</div>"
            ],
            "text/plain": [
              "       Unnamed: 0        crim          zn       indus        chas         nox  \\\n",
              "count  506.000000  506.000000  506.000000  506.000000  506.000000  506.000000   \n",
              "mean   253.500000    3.613524   11.363636   11.136779    0.069170    0.554695   \n",
              "std    146.213884    8.601545   23.322453    6.860353    0.253994    0.115878   \n",
              "min      1.000000    0.006320    0.000000    0.460000    0.000000    0.385000   \n",
              "25%    127.250000    0.082045    0.000000    5.190000    0.000000    0.449000   \n",
              "50%    253.500000    0.256510    0.000000    9.690000    0.000000    0.538000   \n",
              "75%    379.750000    3.677083   12.500000   18.100000    0.000000    0.624000   \n",
              "max    506.000000   88.976200  100.000000   27.740000    1.000000    0.871000   \n",
              "\n",
              "               rm         age         dis         rad         tax     ptratio  \\\n",
              "count  506.000000  506.000000  506.000000  506.000000  506.000000  506.000000   \n",
              "mean     6.284634   68.574901    3.795043    9.549407  408.237154   18.455534   \n",
              "std      0.702617   28.148861    2.105710    8.707259  168.537116    2.164946   \n",
              "min      3.561000    2.900000    1.129600    1.000000  187.000000   12.600000   \n",
              "25%      5.885500   45.025000    2.100175    4.000000  279.000000   17.400000   \n",
              "50%      6.208500   77.500000    3.207450    5.000000  330.000000   19.050000   \n",
              "75%      6.623500   94.075000    5.188425   24.000000  666.000000   20.200000   \n",
              "max      8.780000  100.000000   12.126500   24.000000  711.000000   22.000000   \n",
              "\n",
              "            lstat        medv  \n",
              "count  506.000000  506.000000  \n",
              "mean    12.653063   22.532806  \n",
              "std      7.141062    9.197104  \n",
              "min      1.730000    5.000000  \n",
              "25%      6.950000   17.025000  \n",
              "50%     11.360000   21.200000  \n",
              "75%     16.955000   25.000000  \n",
              "max     37.970000   50.000000  "
            ]
          },
          "execution_count": 13,
          "metadata": {},
          "output_type": "execute_result"
        }
      ],
      "source": [
        "df_bos.describe()"
      ]
    },
    {
      "cell_type": "code",
      "execution_count": 15,
      "metadata": {
        "colab": {
          "base_uri": "https://localhost:8080/",
          "height": 424
        },
        "id": "8Gh2TpZCfskx",
        "outputId": "4c7ab4c6-8aef-4369-85b0-710d5956b60e"
      },
      "outputs": [
        {
          "data": {
            "text/html": [
              "<div>\n",
              "<style scoped>\n",
              "    .dataframe tbody tr th:only-of-type {\n",
              "        vertical-align: middle;\n",
              "    }\n",
              "\n",
              "    .dataframe tbody tr th {\n",
              "        vertical-align: top;\n",
              "    }\n",
              "\n",
              "    .dataframe thead th {\n",
              "        text-align: right;\n",
              "    }\n",
              "</style>\n",
              "<table border=\"1\" class=\"dataframe\">\n",
              "  <thead>\n",
              "    <tr style=\"text-align: right;\">\n",
              "      <th></th>\n",
              "      <th>Unnamed: 0</th>\n",
              "      <th>crim</th>\n",
              "      <th>zn</th>\n",
              "      <th>indus</th>\n",
              "      <th>chas</th>\n",
              "      <th>nox</th>\n",
              "      <th>rm</th>\n",
              "      <th>age</th>\n",
              "      <th>dis</th>\n",
              "      <th>rad</th>\n",
              "      <th>tax</th>\n",
              "      <th>ptratio</th>\n",
              "      <th>lstat</th>\n",
              "      <th>medv</th>\n",
              "    </tr>\n",
              "  </thead>\n",
              "  <tbody>\n",
              "    <tr>\n",
              "      <th>0</th>\n",
              "      <td>1</td>\n",
              "      <td>0.00632</td>\n",
              "      <td>18.0</td>\n",
              "      <td>2.31</td>\n",
              "      <td>0</td>\n",
              "      <td>0.538</td>\n",
              "      <td>6.575</td>\n",
              "      <td>65.2</td>\n",
              "      <td>4.0900</td>\n",
              "      <td>1</td>\n",
              "      <td>296</td>\n",
              "      <td>15.3</td>\n",
              "      <td>4.98</td>\n",
              "      <td>24.0</td>\n",
              "    </tr>\n",
              "    <tr>\n",
              "      <th>1</th>\n",
              "      <td>2</td>\n",
              "      <td>0.02731</td>\n",
              "      <td>0.0</td>\n",
              "      <td>7.07</td>\n",
              "      <td>0</td>\n",
              "      <td>0.469</td>\n",
              "      <td>6.421</td>\n",
              "      <td>78.9</td>\n",
              "      <td>4.9671</td>\n",
              "      <td>2</td>\n",
              "      <td>242</td>\n",
              "      <td>17.8</td>\n",
              "      <td>9.14</td>\n",
              "      <td>21.6</td>\n",
              "    </tr>\n",
              "    <tr>\n",
              "      <th>2</th>\n",
              "      <td>3</td>\n",
              "      <td>0.02729</td>\n",
              "      <td>0.0</td>\n",
              "      <td>7.07</td>\n",
              "      <td>0</td>\n",
              "      <td>0.469</td>\n",
              "      <td>7.185</td>\n",
              "      <td>61.1</td>\n",
              "      <td>4.9671</td>\n",
              "      <td>2</td>\n",
              "      <td>242</td>\n",
              "      <td>17.8</td>\n",
              "      <td>4.03</td>\n",
              "      <td>34.7</td>\n",
              "    </tr>\n",
              "    <tr>\n",
              "      <th>3</th>\n",
              "      <td>4</td>\n",
              "      <td>0.03237</td>\n",
              "      <td>0.0</td>\n",
              "      <td>2.18</td>\n",
              "      <td>0</td>\n",
              "      <td>0.458</td>\n",
              "      <td>6.998</td>\n",
              "      <td>45.8</td>\n",
              "      <td>6.0622</td>\n",
              "      <td>3</td>\n",
              "      <td>222</td>\n",
              "      <td>18.7</td>\n",
              "      <td>2.94</td>\n",
              "      <td>33.4</td>\n",
              "    </tr>\n",
              "    <tr>\n",
              "      <th>4</th>\n",
              "      <td>5</td>\n",
              "      <td>0.06905</td>\n",
              "      <td>0.0</td>\n",
              "      <td>2.18</td>\n",
              "      <td>0</td>\n",
              "      <td>0.458</td>\n",
              "      <td>7.147</td>\n",
              "      <td>54.2</td>\n",
              "      <td>6.0622</td>\n",
              "      <td>3</td>\n",
              "      <td>222</td>\n",
              "      <td>18.7</td>\n",
              "      <td>5.33</td>\n",
              "      <td>36.2</td>\n",
              "    </tr>\n",
              "    <tr>\n",
              "      <th>5</th>\n",
              "      <td>6</td>\n",
              "      <td>0.02985</td>\n",
              "      <td>0.0</td>\n",
              "      <td>2.18</td>\n",
              "      <td>0</td>\n",
              "      <td>0.458</td>\n",
              "      <td>6.430</td>\n",
              "      <td>58.7</td>\n",
              "      <td>6.0622</td>\n",
              "      <td>3</td>\n",
              "      <td>222</td>\n",
              "      <td>18.7</td>\n",
              "      <td>5.21</td>\n",
              "      <td>28.7</td>\n",
              "    </tr>\n",
              "    <tr>\n",
              "      <th>6</th>\n",
              "      <td>7</td>\n",
              "      <td>0.08829</td>\n",
              "      <td>12.5</td>\n",
              "      <td>7.87</td>\n",
              "      <td>0</td>\n",
              "      <td>0.524</td>\n",
              "      <td>6.012</td>\n",
              "      <td>66.6</td>\n",
              "      <td>5.5605</td>\n",
              "      <td>5</td>\n",
              "      <td>311</td>\n",
              "      <td>15.2</td>\n",
              "      <td>12.43</td>\n",
              "      <td>22.9</td>\n",
              "    </tr>\n",
              "    <tr>\n",
              "      <th>7</th>\n",
              "      <td>8</td>\n",
              "      <td>0.14455</td>\n",
              "      <td>12.5</td>\n",
              "      <td>7.87</td>\n",
              "      <td>0</td>\n",
              "      <td>0.524</td>\n",
              "      <td>6.172</td>\n",
              "      <td>96.1</td>\n",
              "      <td>5.9505</td>\n",
              "      <td>5</td>\n",
              "      <td>311</td>\n",
              "      <td>15.2</td>\n",
              "      <td>19.15</td>\n",
              "      <td>27.1</td>\n",
              "    </tr>\n",
              "    <tr>\n",
              "      <th>8</th>\n",
              "      <td>9</td>\n",
              "      <td>0.21124</td>\n",
              "      <td>12.5</td>\n",
              "      <td>7.87</td>\n",
              "      <td>0</td>\n",
              "      <td>0.524</td>\n",
              "      <td>5.631</td>\n",
              "      <td>100.0</td>\n",
              "      <td>6.0821</td>\n",
              "      <td>5</td>\n",
              "      <td>311</td>\n",
              "      <td>15.2</td>\n",
              "      <td>29.93</td>\n",
              "      <td>16.5</td>\n",
              "    </tr>\n",
              "    <tr>\n",
              "      <th>9</th>\n",
              "      <td>10</td>\n",
              "      <td>0.17004</td>\n",
              "      <td>12.5</td>\n",
              "      <td>7.87</td>\n",
              "      <td>0</td>\n",
              "      <td>0.524</td>\n",
              "      <td>6.004</td>\n",
              "      <td>85.9</td>\n",
              "      <td>6.5921</td>\n",
              "      <td>5</td>\n",
              "      <td>311</td>\n",
              "      <td>15.2</td>\n",
              "      <td>17.10</td>\n",
              "      <td>18.9</td>\n",
              "    </tr>\n",
              "    <tr>\n",
              "      <th>10</th>\n",
              "      <td>11</td>\n",
              "      <td>0.22489</td>\n",
              "      <td>12.5</td>\n",
              "      <td>7.87</td>\n",
              "      <td>0</td>\n",
              "      <td>0.524</td>\n",
              "      <td>6.377</td>\n",
              "      <td>94.3</td>\n",
              "      <td>6.3467</td>\n",
              "      <td>5</td>\n",
              "      <td>311</td>\n",
              "      <td>15.2</td>\n",
              "      <td>20.45</td>\n",
              "      <td>15.0</td>\n",
              "    </tr>\n",
              "    <tr>\n",
              "      <th>11</th>\n",
              "      <td>12</td>\n",
              "      <td>0.11747</td>\n",
              "      <td>12.5</td>\n",
              "      <td>7.87</td>\n",
              "      <td>0</td>\n",
              "      <td>0.524</td>\n",
              "      <td>6.009</td>\n",
              "      <td>82.9</td>\n",
              "      <td>6.2267</td>\n",
              "      <td>5</td>\n",
              "      <td>311</td>\n",
              "      <td>15.2</td>\n",
              "      <td>13.27</td>\n",
              "      <td>18.9</td>\n",
              "    </tr>\n",
              "    <tr>\n",
              "      <th>12</th>\n",
              "      <td>13</td>\n",
              "      <td>0.09378</td>\n",
              "      <td>12.5</td>\n",
              "      <td>7.87</td>\n",
              "      <td>0</td>\n",
              "      <td>0.524</td>\n",
              "      <td>5.889</td>\n",
              "      <td>39.0</td>\n",
              "      <td>5.4509</td>\n",
              "      <td>5</td>\n",
              "      <td>311</td>\n",
              "      <td>15.2</td>\n",
              "      <td>15.71</td>\n",
              "      <td>21.7</td>\n",
              "    </tr>\n",
              "    <tr>\n",
              "      <th>13</th>\n",
              "      <td>14</td>\n",
              "      <td>0.62976</td>\n",
              "      <td>0.0</td>\n",
              "      <td>8.14</td>\n",
              "      <td>0</td>\n",
              "      <td>0.538</td>\n",
              "      <td>5.949</td>\n",
              "      <td>61.8</td>\n",
              "      <td>4.7075</td>\n",
              "      <td>4</td>\n",
              "      <td>307</td>\n",
              "      <td>21.0</td>\n",
              "      <td>8.26</td>\n",
              "      <td>20.4</td>\n",
              "    </tr>\n",
              "    <tr>\n",
              "      <th>14</th>\n",
              "      <td>15</td>\n",
              "      <td>0.63796</td>\n",
              "      <td>0.0</td>\n",
              "      <td>8.14</td>\n",
              "      <td>0</td>\n",
              "      <td>0.538</td>\n",
              "      <td>6.096</td>\n",
              "      <td>84.5</td>\n",
              "      <td>4.4619</td>\n",
              "      <td>4</td>\n",
              "      <td>307</td>\n",
              "      <td>21.0</td>\n",
              "      <td>10.26</td>\n",
              "      <td>18.2</td>\n",
              "    </tr>\n",
              "  </tbody>\n",
              "</table>\n",
              "</div>"
            ],
            "text/plain": [
              "    Unnamed: 0     crim    zn  indus  chas    nox     rm    age     dis  rad  \\\n",
              "0            1  0.00632  18.0   2.31     0  0.538  6.575   65.2  4.0900    1   \n",
              "1            2  0.02731   0.0   7.07     0  0.469  6.421   78.9  4.9671    2   \n",
              "2            3  0.02729   0.0   7.07     0  0.469  7.185   61.1  4.9671    2   \n",
              "3            4  0.03237   0.0   2.18     0  0.458  6.998   45.8  6.0622    3   \n",
              "4            5  0.06905   0.0   2.18     0  0.458  7.147   54.2  6.0622    3   \n",
              "5            6  0.02985   0.0   2.18     0  0.458  6.430   58.7  6.0622    3   \n",
              "6            7  0.08829  12.5   7.87     0  0.524  6.012   66.6  5.5605    5   \n",
              "7            8  0.14455  12.5   7.87     0  0.524  6.172   96.1  5.9505    5   \n",
              "8            9  0.21124  12.5   7.87     0  0.524  5.631  100.0  6.0821    5   \n",
              "9           10  0.17004  12.5   7.87     0  0.524  6.004   85.9  6.5921    5   \n",
              "10          11  0.22489  12.5   7.87     0  0.524  6.377   94.3  6.3467    5   \n",
              "11          12  0.11747  12.5   7.87     0  0.524  6.009   82.9  6.2267    5   \n",
              "12          13  0.09378  12.5   7.87     0  0.524  5.889   39.0  5.4509    5   \n",
              "13          14  0.62976   0.0   8.14     0  0.538  5.949   61.8  4.7075    4   \n",
              "14          15  0.63796   0.0   8.14     0  0.538  6.096   84.5  4.4619    4   \n",
              "\n",
              "    tax  ptratio  lstat  medv  \n",
              "0   296     15.3   4.98  24.0  \n",
              "1   242     17.8   9.14  21.6  \n",
              "2   242     17.8   4.03  34.7  \n",
              "3   222     18.7   2.94  33.4  \n",
              "4   222     18.7   5.33  36.2  \n",
              "5   222     18.7   5.21  28.7  \n",
              "6   311     15.2  12.43  22.9  \n",
              "7   311     15.2  19.15  27.1  \n",
              "8   311     15.2  29.93  16.5  \n",
              "9   311     15.2  17.10  18.9  \n",
              "10  311     15.2  20.45  15.0  \n",
              "11  311     15.2  13.27  18.9  \n",
              "12  311     15.2  15.71  21.7  \n",
              "13  307     21.0   8.26  20.4  \n",
              "14  307     21.0  10.26  18.2  "
            ]
          },
          "execution_count": 15,
          "metadata": {},
          "output_type": "execute_result"
        }
      ],
      "source": [
        "df_bos.head(15)"
      ]
    },
    {
      "cell_type": "code",
      "execution_count": 16,
      "metadata": {},
      "outputs": [
        {
          "data": {
            "text/html": [
              "<div>\n",
              "<style scoped>\n",
              "    .dataframe tbody tr th:only-of-type {\n",
              "        vertical-align: middle;\n",
              "    }\n",
              "\n",
              "    .dataframe tbody tr th {\n",
              "        vertical-align: top;\n",
              "    }\n",
              "\n",
              "    .dataframe thead th {\n",
              "        text-align: right;\n",
              "    }\n",
              "</style>\n",
              "<table border=\"1\" class=\"dataframe\">\n",
              "  <thead>\n",
              "    <tr style=\"text-align: right;\">\n",
              "      <th></th>\n",
              "      <th>Unnamed: 0</th>\n",
              "      <th>crim</th>\n",
              "      <th>zn</th>\n",
              "      <th>indus</th>\n",
              "      <th>chas</th>\n",
              "      <th>nox</th>\n",
              "      <th>rm</th>\n",
              "      <th>age</th>\n",
              "      <th>dis</th>\n",
              "      <th>rad</th>\n",
              "      <th>tax</th>\n",
              "      <th>ptratio</th>\n",
              "      <th>lstat</th>\n",
              "      <th>medv</th>\n",
              "    </tr>\n",
              "  </thead>\n",
              "  <tbody>\n",
              "    <tr>\n",
              "      <th>491</th>\n",
              "      <td>492</td>\n",
              "      <td>0.10574</td>\n",
              "      <td>0.0</td>\n",
              "      <td>27.74</td>\n",
              "      <td>0</td>\n",
              "      <td>0.609</td>\n",
              "      <td>5.983</td>\n",
              "      <td>98.8</td>\n",
              "      <td>1.8681</td>\n",
              "      <td>4</td>\n",
              "      <td>711</td>\n",
              "      <td>20.1</td>\n",
              "      <td>18.07</td>\n",
              "      <td>13.6</td>\n",
              "    </tr>\n",
              "    <tr>\n",
              "      <th>492</th>\n",
              "      <td>493</td>\n",
              "      <td>0.11132</td>\n",
              "      <td>0.0</td>\n",
              "      <td>27.74</td>\n",
              "      <td>0</td>\n",
              "      <td>0.609</td>\n",
              "      <td>5.983</td>\n",
              "      <td>83.5</td>\n",
              "      <td>2.1099</td>\n",
              "      <td>4</td>\n",
              "      <td>711</td>\n",
              "      <td>20.1</td>\n",
              "      <td>13.35</td>\n",
              "      <td>20.1</td>\n",
              "    </tr>\n",
              "    <tr>\n",
              "      <th>493</th>\n",
              "      <td>494</td>\n",
              "      <td>0.17331</td>\n",
              "      <td>0.0</td>\n",
              "      <td>9.69</td>\n",
              "      <td>0</td>\n",
              "      <td>0.585</td>\n",
              "      <td>5.707</td>\n",
              "      <td>54.0</td>\n",
              "      <td>2.3817</td>\n",
              "      <td>6</td>\n",
              "      <td>391</td>\n",
              "      <td>19.2</td>\n",
              "      <td>12.01</td>\n",
              "      <td>21.8</td>\n",
              "    </tr>\n",
              "    <tr>\n",
              "      <th>494</th>\n",
              "      <td>495</td>\n",
              "      <td>0.27957</td>\n",
              "      <td>0.0</td>\n",
              "      <td>9.69</td>\n",
              "      <td>0</td>\n",
              "      <td>0.585</td>\n",
              "      <td>5.926</td>\n",
              "      <td>42.6</td>\n",
              "      <td>2.3817</td>\n",
              "      <td>6</td>\n",
              "      <td>391</td>\n",
              "      <td>19.2</td>\n",
              "      <td>13.59</td>\n",
              "      <td>24.5</td>\n",
              "    </tr>\n",
              "    <tr>\n",
              "      <th>495</th>\n",
              "      <td>496</td>\n",
              "      <td>0.17899</td>\n",
              "      <td>0.0</td>\n",
              "      <td>9.69</td>\n",
              "      <td>0</td>\n",
              "      <td>0.585</td>\n",
              "      <td>5.670</td>\n",
              "      <td>28.8</td>\n",
              "      <td>2.7986</td>\n",
              "      <td>6</td>\n",
              "      <td>391</td>\n",
              "      <td>19.2</td>\n",
              "      <td>17.60</td>\n",
              "      <td>23.1</td>\n",
              "    </tr>\n",
              "    <tr>\n",
              "      <th>496</th>\n",
              "      <td>497</td>\n",
              "      <td>0.28960</td>\n",
              "      <td>0.0</td>\n",
              "      <td>9.69</td>\n",
              "      <td>0</td>\n",
              "      <td>0.585</td>\n",
              "      <td>5.390</td>\n",
              "      <td>72.9</td>\n",
              "      <td>2.7986</td>\n",
              "      <td>6</td>\n",
              "      <td>391</td>\n",
              "      <td>19.2</td>\n",
              "      <td>21.14</td>\n",
              "      <td>19.7</td>\n",
              "    </tr>\n",
              "    <tr>\n",
              "      <th>497</th>\n",
              "      <td>498</td>\n",
              "      <td>0.26838</td>\n",
              "      <td>0.0</td>\n",
              "      <td>9.69</td>\n",
              "      <td>0</td>\n",
              "      <td>0.585</td>\n",
              "      <td>5.794</td>\n",
              "      <td>70.6</td>\n",
              "      <td>2.8927</td>\n",
              "      <td>6</td>\n",
              "      <td>391</td>\n",
              "      <td>19.2</td>\n",
              "      <td>14.10</td>\n",
              "      <td>18.3</td>\n",
              "    </tr>\n",
              "    <tr>\n",
              "      <th>498</th>\n",
              "      <td>499</td>\n",
              "      <td>0.23912</td>\n",
              "      <td>0.0</td>\n",
              "      <td>9.69</td>\n",
              "      <td>0</td>\n",
              "      <td>0.585</td>\n",
              "      <td>6.019</td>\n",
              "      <td>65.3</td>\n",
              "      <td>2.4091</td>\n",
              "      <td>6</td>\n",
              "      <td>391</td>\n",
              "      <td>19.2</td>\n",
              "      <td>12.92</td>\n",
              "      <td>21.2</td>\n",
              "    </tr>\n",
              "    <tr>\n",
              "      <th>499</th>\n",
              "      <td>500</td>\n",
              "      <td>0.17783</td>\n",
              "      <td>0.0</td>\n",
              "      <td>9.69</td>\n",
              "      <td>0</td>\n",
              "      <td>0.585</td>\n",
              "      <td>5.569</td>\n",
              "      <td>73.5</td>\n",
              "      <td>2.3999</td>\n",
              "      <td>6</td>\n",
              "      <td>391</td>\n",
              "      <td>19.2</td>\n",
              "      <td>15.10</td>\n",
              "      <td>17.5</td>\n",
              "    </tr>\n",
              "    <tr>\n",
              "      <th>500</th>\n",
              "      <td>501</td>\n",
              "      <td>0.22438</td>\n",
              "      <td>0.0</td>\n",
              "      <td>9.69</td>\n",
              "      <td>0</td>\n",
              "      <td>0.585</td>\n",
              "      <td>6.027</td>\n",
              "      <td>79.7</td>\n",
              "      <td>2.4982</td>\n",
              "      <td>6</td>\n",
              "      <td>391</td>\n",
              "      <td>19.2</td>\n",
              "      <td>14.33</td>\n",
              "      <td>16.8</td>\n",
              "    </tr>\n",
              "    <tr>\n",
              "      <th>501</th>\n",
              "      <td>502</td>\n",
              "      <td>0.06263</td>\n",
              "      <td>0.0</td>\n",
              "      <td>11.93</td>\n",
              "      <td>0</td>\n",
              "      <td>0.573</td>\n",
              "      <td>6.593</td>\n",
              "      <td>69.1</td>\n",
              "      <td>2.4786</td>\n",
              "      <td>1</td>\n",
              "      <td>273</td>\n",
              "      <td>21.0</td>\n",
              "      <td>9.67</td>\n",
              "      <td>22.4</td>\n",
              "    </tr>\n",
              "    <tr>\n",
              "      <th>502</th>\n",
              "      <td>503</td>\n",
              "      <td>0.04527</td>\n",
              "      <td>0.0</td>\n",
              "      <td>11.93</td>\n",
              "      <td>0</td>\n",
              "      <td>0.573</td>\n",
              "      <td>6.120</td>\n",
              "      <td>76.7</td>\n",
              "      <td>2.2875</td>\n",
              "      <td>1</td>\n",
              "      <td>273</td>\n",
              "      <td>21.0</td>\n",
              "      <td>9.08</td>\n",
              "      <td>20.6</td>\n",
              "    </tr>\n",
              "    <tr>\n",
              "      <th>503</th>\n",
              "      <td>504</td>\n",
              "      <td>0.06076</td>\n",
              "      <td>0.0</td>\n",
              "      <td>11.93</td>\n",
              "      <td>0</td>\n",
              "      <td>0.573</td>\n",
              "      <td>6.976</td>\n",
              "      <td>91.0</td>\n",
              "      <td>2.1675</td>\n",
              "      <td>1</td>\n",
              "      <td>273</td>\n",
              "      <td>21.0</td>\n",
              "      <td>5.64</td>\n",
              "      <td>23.9</td>\n",
              "    </tr>\n",
              "    <tr>\n",
              "      <th>504</th>\n",
              "      <td>505</td>\n",
              "      <td>0.10959</td>\n",
              "      <td>0.0</td>\n",
              "      <td>11.93</td>\n",
              "      <td>0</td>\n",
              "      <td>0.573</td>\n",
              "      <td>6.794</td>\n",
              "      <td>89.3</td>\n",
              "      <td>2.3889</td>\n",
              "      <td>1</td>\n",
              "      <td>273</td>\n",
              "      <td>21.0</td>\n",
              "      <td>6.48</td>\n",
              "      <td>22.0</td>\n",
              "    </tr>\n",
              "    <tr>\n",
              "      <th>505</th>\n",
              "      <td>506</td>\n",
              "      <td>0.04741</td>\n",
              "      <td>0.0</td>\n",
              "      <td>11.93</td>\n",
              "      <td>0</td>\n",
              "      <td>0.573</td>\n",
              "      <td>6.030</td>\n",
              "      <td>80.8</td>\n",
              "      <td>2.5050</td>\n",
              "      <td>1</td>\n",
              "      <td>273</td>\n",
              "      <td>21.0</td>\n",
              "      <td>7.88</td>\n",
              "      <td>11.9</td>\n",
              "    </tr>\n",
              "  </tbody>\n",
              "</table>\n",
              "</div>"
            ],
            "text/plain": [
              "     Unnamed: 0     crim   zn  indus  chas    nox     rm   age     dis  rad  \\\n",
              "491         492  0.10574  0.0  27.74     0  0.609  5.983  98.8  1.8681    4   \n",
              "492         493  0.11132  0.0  27.74     0  0.609  5.983  83.5  2.1099    4   \n",
              "493         494  0.17331  0.0   9.69     0  0.585  5.707  54.0  2.3817    6   \n",
              "494         495  0.27957  0.0   9.69     0  0.585  5.926  42.6  2.3817    6   \n",
              "495         496  0.17899  0.0   9.69     0  0.585  5.670  28.8  2.7986    6   \n",
              "496         497  0.28960  0.0   9.69     0  0.585  5.390  72.9  2.7986    6   \n",
              "497         498  0.26838  0.0   9.69     0  0.585  5.794  70.6  2.8927    6   \n",
              "498         499  0.23912  0.0   9.69     0  0.585  6.019  65.3  2.4091    6   \n",
              "499         500  0.17783  0.0   9.69     0  0.585  5.569  73.5  2.3999    6   \n",
              "500         501  0.22438  0.0   9.69     0  0.585  6.027  79.7  2.4982    6   \n",
              "501         502  0.06263  0.0  11.93     0  0.573  6.593  69.1  2.4786    1   \n",
              "502         503  0.04527  0.0  11.93     0  0.573  6.120  76.7  2.2875    1   \n",
              "503         504  0.06076  0.0  11.93     0  0.573  6.976  91.0  2.1675    1   \n",
              "504         505  0.10959  0.0  11.93     0  0.573  6.794  89.3  2.3889    1   \n",
              "505         506  0.04741  0.0  11.93     0  0.573  6.030  80.8  2.5050    1   \n",
              "\n",
              "     tax  ptratio  lstat  medv  \n",
              "491  711     20.1  18.07  13.6  \n",
              "492  711     20.1  13.35  20.1  \n",
              "493  391     19.2  12.01  21.8  \n",
              "494  391     19.2  13.59  24.5  \n",
              "495  391     19.2  17.60  23.1  \n",
              "496  391     19.2  21.14  19.7  \n",
              "497  391     19.2  14.10  18.3  \n",
              "498  391     19.2  12.92  21.2  \n",
              "499  391     19.2  15.10  17.5  \n",
              "500  391     19.2  14.33  16.8  \n",
              "501  273     21.0   9.67  22.4  \n",
              "502  273     21.0   9.08  20.6  \n",
              "503  273     21.0   5.64  23.9  \n",
              "504  273     21.0   6.48  22.0  \n",
              "505  273     21.0   7.88  11.9  "
            ]
          },
          "execution_count": 16,
          "metadata": {},
          "output_type": "execute_result"
        }
      ],
      "source": [
        "df_bos.tail(15)"
      ]
    },
    {
      "cell_type": "code",
      "execution_count": 17,
      "metadata": {
        "id": "wW_bTxckfsh_"
      },
      "outputs": [],
      "source": [
        "bos_tax = pd.Series(df_bos['tax'])"
      ]
    },
    {
      "cell_type": "code",
      "execution_count": 18,
      "metadata": {
        "colab": {
          "base_uri": "https://localhost:8080/",
          "height": 398
        },
        "id": "YQDr1xXrfsfP",
        "outputId": "d5c0cbbf-65ba-4d93-9113-b17b56c6671f"
      },
      "outputs": [
        {
          "data": {
            "text/plain": [
              "496    391\n",
              "497    391\n",
              "498    391\n",
              "499    391\n",
              "500    391\n",
              "501    273\n",
              "502    273\n",
              "503    273\n",
              "504    273\n",
              "505    273\n",
              "Name: tax, dtype: int64"
            ]
          },
          "execution_count": 18,
          "metadata": {},
          "output_type": "execute_result"
        }
      ],
      "source": [
        "bos_tax.tail(10)"
      ]
    },
    {
      "cell_type": "code",
      "execution_count": 19,
      "metadata": {
        "colab": {
          "base_uri": "https://localhost:8080/",
          "height": 313
        },
        "id": "iebp7-aDwP1O",
        "outputId": "22a8a124-dbfa-49d8-ecb2-bc66ea252110"
      },
      "outputs": [
        {
          "name": "stdout",
          "output_type": "stream",
          "text": [
            "  key  data\n",
            "0   A     0\n",
            "1   B     1\n",
            "2   C     2\n",
            "3   A     3\n",
            "4   B     4\n",
            "5   C     5\n",
            "<pandas.core.groupby.generic.DataFrameGroupBy object at 0x0000024379010740>\n"
          ]
        },
        {
          "data": {
            "text/html": [
              "<div>\n",
              "<style scoped>\n",
              "    .dataframe tbody tr th:only-of-type {\n",
              "        vertical-align: middle;\n",
              "    }\n",
              "\n",
              "    .dataframe tbody tr th {\n",
              "        vertical-align: top;\n",
              "    }\n",
              "\n",
              "    .dataframe thead th {\n",
              "        text-align: right;\n",
              "    }\n",
              "</style>\n",
              "<table border=\"1\" class=\"dataframe\">\n",
              "  <thead>\n",
              "    <tr style=\"text-align: right;\">\n",
              "      <th></th>\n",
              "      <th>data</th>\n",
              "    </tr>\n",
              "    <tr>\n",
              "      <th>key</th>\n",
              "      <th></th>\n",
              "    </tr>\n",
              "  </thead>\n",
              "  <tbody>\n",
              "    <tr>\n",
              "      <th>A</th>\n",
              "      <td>3</td>\n",
              "    </tr>\n",
              "    <tr>\n",
              "      <th>B</th>\n",
              "      <td>5</td>\n",
              "    </tr>\n",
              "    <tr>\n",
              "      <th>C</th>\n",
              "      <td>7</td>\n",
              "    </tr>\n",
              "  </tbody>\n",
              "</table>\n",
              "</div>"
            ],
            "text/plain": [
              "     data\n",
              "key      \n",
              "A       3\n",
              "B       5\n",
              "C       7"
            ]
          },
          "execution_count": 19,
          "metadata": {},
          "output_type": "execute_result"
        }
      ],
      "source": [
        "df_groupby = pd.DataFrame(\n",
        "{\"key\": [\"A\", \"B\", \"C\", \"A\", \"B\", \"C\"], \"data\":\n",
        "range(6)}, columns=[\"key\", \"data\"]\n",
        ")\n",
        "print(df_groupby)\n",
        "print(df_groupby.groupby('key'))\n",
        "df_groupby.groupby('key').sum()"
      ]
    },
    {
      "cell_type": "code",
      "execution_count": null,
      "metadata": {
        "id": "sSEWuh0kRdEK"
      },
      "outputs": [],
      "source": [
        "import numpy as np\n",
        "np.random.seed(0) # seed for reproducibility\n",
        "x1 = np.random.randint(10, size=6) # One-dimensional array\n",
        "x2 = np.random.randint(10, size=(3, 4)) # Two-dimensional array\n",
        "x3 = np.random.randint(10, size=(3, 4, 5)) # Three-dimensional array"
      ]
    },
    {
      "cell_type": "code",
      "execution_count": null,
      "metadata": {
        "colab": {
          "base_uri": "https://localhost:8080/"
        },
        "id": "kaDVz0glSMQQ",
        "outputId": "a254e78b-4cdc-465d-dcd9-cdc6a6d035fe"
      },
      "outputs": [
        {
          "data": {
            "text/plain": [
              "2"
            ]
          },
          "execution_count": 35,
          "metadata": {},
          "output_type": "execute_result"
        }
      ],
      "source": [
        "x2.ndim"
      ]
    },
    {
      "cell_type": "code",
      "execution_count": null,
      "metadata": {
        "colab": {
          "base_uri": "https://localhost:8080/"
        },
        "id": "G1S7-AMFSOJ1",
        "outputId": "57e43c23-91f5-4359-c9f1-fcda5fe82172"
      },
      "outputs": [
        {
          "data": {
            "text/plain": [
              "(3, 4, 5)"
            ]
          },
          "execution_count": 36,
          "metadata": {},
          "output_type": "execute_result"
        }
      ],
      "source": [
        "x3.shape"
      ]
    },
    {
      "cell_type": "code",
      "execution_count": null,
      "metadata": {
        "colab": {
          "base_uri": "https://localhost:8080/"
        },
        "id": "rO8EtmseRlVt",
        "outputId": "91fe4f2a-01d8-4f1b-8340-077461353170"
      },
      "outputs": [
        {
          "name": "stdout",
          "output_type": "stream",
          "text": [
            "[ 1  2  3  4  5  6  7  8  9 10 11 12]\n",
            "[[ 1  2  3]\n",
            " [ 4  5  6]\n",
            " [ 7  8  9]\n",
            " [10 11 12]]\n",
            "[ 1  2  3  4  5  6  7  8  9 10 11 12]\n"
          ]
        }
      ],
      "source": [
        "original = np.arange(1, 13)\n",
        "print(original)\n",
        "reshaped = original.reshape(4,3)\n",
        "print(reshaped)\n",
        "print(original) # we can see reshaping does not mutate the nparray"
      ]
    },
    {
      "cell_type": "code",
      "execution_count": null,
      "metadata": {
        "colab": {
          "base_uri": "https://localhost:8080/"
        },
        "id": "_FH9TwHURviq",
        "outputId": "92523969-b1b5-49c4-9b18-f9fa2c83e46e"
      },
      "outputs": [
        {
          "data": {
            "text/plain": [
              "array([1.        , 1.41421356, 1.73205081, 2.        , 2.23606798,\n",
              "       2.44948974, 2.64575131, 2.82842712, 3.        , 3.16227766,\n",
              "       3.31662479, 3.46410162])"
            ]
          },
          "execution_count": 32,
          "metadata": {},
          "output_type": "execute_result"
        }
      ],
      "source": [
        "np.sqrt(original)"
      ]
    },
    {
      "cell_type": "code",
      "execution_count": null,
      "metadata": {
        "id": "xs-9sXwXRv0z"
      },
      "outputs": [],
      "source": [
        "employees = {\n",
        "    'EmployeeID': [1, 2, 3, 4, 5],\n",
        "    'Employee': ['Alice', 'Bob', 'Charlie', 'David', 'Eva'],\n",
        "    'DepartmentID': [101, 102, 101, 103, 102]\n",
        "}\n",
        "departments = {\n",
        "    'DepartmentID': [101, 102, 103],\n",
        "    'DepartmentName': ['HR', 'IT', 'Finance']\n",
        "}\n",
        "df_employees = pd.DataFrame(employees)\n",
        "df_departments = pd.DataFrame(departments)"
      ]
    },
    {
      "cell_type": "code",
      "execution_count": null,
      "metadata": {
        "id": "IqQ75s6OhNhe"
      },
      "outputs": [],
      "source": [
        "df_merged = pd.merge(df_employees, df_departments, on='DepartmentID', how='left')"
      ]
    },
    {
      "cell_type": "code",
      "execution_count": null,
      "metadata": {
        "colab": {
          "base_uri": "https://localhost:8080/",
          "height": 206
        },
        "id": "bjhoZl0GhaKP",
        "outputId": "84ae138b-3b62-4704-a65f-2c7b4ce7e0ad"
      },
      "outputs": [
        {
          "data": {
            "application/vnd.google.colaboratory.intrinsic+json": {
              "summary": "{\n  \"name\": \"df_merged\",\n  \"rows\": 5,\n  \"fields\": [\n    {\n      \"column\": \"EmployeeID\",\n      \"properties\": {\n        \"dtype\": \"number\",\n        \"std\": 1,\n        \"min\": 1,\n        \"max\": 5,\n        \"num_unique_values\": 5,\n        \"samples\": [\n          2,\n          5,\n          3\n        ],\n        \"semantic_type\": \"\",\n        \"description\": \"\"\n      }\n    },\n    {\n      \"column\": \"Employee\",\n      \"properties\": {\n        \"dtype\": \"string\",\n        \"num_unique_values\": 5,\n        \"samples\": [\n          \"Bob\",\n          \"Eva\",\n          \"Charlie\"\n        ],\n        \"semantic_type\": \"\",\n        \"description\": \"\"\n      }\n    },\n    {\n      \"column\": \"DepartmentID\",\n      \"properties\": {\n        \"dtype\": \"number\",\n        \"std\": 0,\n        \"min\": 101,\n        \"max\": 103,\n        \"num_unique_values\": 3,\n        \"samples\": [\n          101,\n          102,\n          103\n        ],\n        \"semantic_type\": \"\",\n        \"description\": \"\"\n      }\n    },\n    {\n      \"column\": \"DepartmentName\",\n      \"properties\": {\n        \"dtype\": \"string\",\n        \"num_unique_values\": 3,\n        \"samples\": [\n          \"HR\",\n          \"IT\",\n          \"Finance\"\n        ],\n        \"semantic_type\": \"\",\n        \"description\": \"\"\n      }\n    }\n  ]\n}",
              "type": "dataframe",
              "variable_name": "df_merged"
            },
            "text/html": [
              "\n",
              "  <div id=\"df-77494d74-3ee2-479b-b786-455678d9a2e7\" class=\"colab-df-container\">\n",
              "    <div>\n",
              "<style scoped>\n",
              "    .dataframe tbody tr th:only-of-type {\n",
              "        vertical-align: middle;\n",
              "    }\n",
              "\n",
              "    .dataframe tbody tr th {\n",
              "        vertical-align: top;\n",
              "    }\n",
              "\n",
              "    .dataframe thead th {\n",
              "        text-align: right;\n",
              "    }\n",
              "</style>\n",
              "<table border=\"1\" class=\"dataframe\">\n",
              "  <thead>\n",
              "    <tr style=\"text-align: right;\">\n",
              "      <th></th>\n",
              "      <th>EmployeeID</th>\n",
              "      <th>Employee</th>\n",
              "      <th>DepartmentID</th>\n",
              "      <th>DepartmentName</th>\n",
              "    </tr>\n",
              "  </thead>\n",
              "  <tbody>\n",
              "    <tr>\n",
              "      <th>0</th>\n",
              "      <td>1</td>\n",
              "      <td>Alice</td>\n",
              "      <td>101</td>\n",
              "      <td>HR</td>\n",
              "    </tr>\n",
              "    <tr>\n",
              "      <th>1</th>\n",
              "      <td>2</td>\n",
              "      <td>Bob</td>\n",
              "      <td>102</td>\n",
              "      <td>IT</td>\n",
              "    </tr>\n",
              "    <tr>\n",
              "      <th>2</th>\n",
              "      <td>3</td>\n",
              "      <td>Charlie</td>\n",
              "      <td>101</td>\n",
              "      <td>HR</td>\n",
              "    </tr>\n",
              "    <tr>\n",
              "      <th>3</th>\n",
              "      <td>4</td>\n",
              "      <td>David</td>\n",
              "      <td>103</td>\n",
              "      <td>Finance</td>\n",
              "    </tr>\n",
              "    <tr>\n",
              "      <th>4</th>\n",
              "      <td>5</td>\n",
              "      <td>Eva</td>\n",
              "      <td>102</td>\n",
              "      <td>IT</td>\n",
              "    </tr>\n",
              "  </tbody>\n",
              "</table>\n",
              "</div>\n",
              "    <div class=\"colab-df-buttons\">\n",
              "\n",
              "  <div class=\"colab-df-container\">\n",
              "    <button class=\"colab-df-convert\" onclick=\"convertToInteractive('df-77494d74-3ee2-479b-b786-455678d9a2e7')\"\n",
              "            title=\"Convert this dataframe to an interactive table.\"\n",
              "            style=\"display:none;\">\n",
              "\n",
              "  <svg xmlns=\"http://www.w3.org/2000/svg\" height=\"24px\" viewBox=\"0 -960 960 960\">\n",
              "    <path d=\"M120-120v-720h720v720H120Zm60-500h600v-160H180v160Zm220 220h160v-160H400v160Zm0 220h160v-160H400v160ZM180-400h160v-160H180v160Zm440 0h160v-160H620v160ZM180-180h160v-160H180v160Zm440 0h160v-160H620v160Z\"/>\n",
              "  </svg>\n",
              "    </button>\n",
              "\n",
              "  <style>\n",
              "    .colab-df-container {\n",
              "      display:flex;\n",
              "      gap: 12px;\n",
              "    }\n",
              "\n",
              "    .colab-df-convert {\n",
              "      background-color: #E8F0FE;\n",
              "      border: none;\n",
              "      border-radius: 50%;\n",
              "      cursor: pointer;\n",
              "      display: none;\n",
              "      fill: #1967D2;\n",
              "      height: 32px;\n",
              "      padding: 0 0 0 0;\n",
              "      width: 32px;\n",
              "    }\n",
              "\n",
              "    .colab-df-convert:hover {\n",
              "      background-color: #E2EBFA;\n",
              "      box-shadow: 0px 1px 2px rgba(60, 64, 67, 0.3), 0px 1px 3px 1px rgba(60, 64, 67, 0.15);\n",
              "      fill: #174EA6;\n",
              "    }\n",
              "\n",
              "    .colab-df-buttons div {\n",
              "      margin-bottom: 4px;\n",
              "    }\n",
              "\n",
              "    [theme=dark] .colab-df-convert {\n",
              "      background-color: #3B4455;\n",
              "      fill: #D2E3FC;\n",
              "    }\n",
              "\n",
              "    [theme=dark] .colab-df-convert:hover {\n",
              "      background-color: #434B5C;\n",
              "      box-shadow: 0px 1px 3px 1px rgba(0, 0, 0, 0.15);\n",
              "      filter: drop-shadow(0px 1px 2px rgba(0, 0, 0, 0.3));\n",
              "      fill: #FFFFFF;\n",
              "    }\n",
              "  </style>\n",
              "\n",
              "    <script>\n",
              "      const buttonEl =\n",
              "        document.querySelector('#df-77494d74-3ee2-479b-b786-455678d9a2e7 button.colab-df-convert');\n",
              "      buttonEl.style.display =\n",
              "        google.colab.kernel.accessAllowed ? 'block' : 'none';\n",
              "\n",
              "      async function convertToInteractive(key) {\n",
              "        const element = document.querySelector('#df-77494d74-3ee2-479b-b786-455678d9a2e7');\n",
              "        const dataTable =\n",
              "          await google.colab.kernel.invokeFunction('convertToInteractive',\n",
              "                                                    [key], {});\n",
              "        if (!dataTable) return;\n",
              "\n",
              "        const docLinkHtml = 'Like what you see? Visit the ' +\n",
              "          '<a target=\"_blank\" href=https://colab.research.google.com/notebooks/data_table.ipynb>data table notebook</a>'\n",
              "          + ' to learn more about interactive tables.';\n",
              "        element.innerHTML = '';\n",
              "        dataTable['output_type'] = 'display_data';\n",
              "        await google.colab.output.renderOutput(dataTable, element);\n",
              "        const docLink = document.createElement('div');\n",
              "        docLink.innerHTML = docLinkHtml;\n",
              "        element.appendChild(docLink);\n",
              "      }\n",
              "    </script>\n",
              "  </div>\n",
              "\n",
              "\n",
              "<div id=\"df-4f391447-d603-4bc5-ae71-2b53817b2ffc\">\n",
              "  <button class=\"colab-df-quickchart\" onclick=\"quickchart('df-4f391447-d603-4bc5-ae71-2b53817b2ffc')\"\n",
              "            title=\"Suggest charts\"\n",
              "            style=\"display:none;\">\n",
              "\n",
              "<svg xmlns=\"http://www.w3.org/2000/svg\" height=\"24px\"viewBox=\"0 0 24 24\"\n",
              "     width=\"24px\">\n",
              "    <g>\n",
              "        <path d=\"M19 3H5c-1.1 0-2 .9-2 2v14c0 1.1.9 2 2 2h14c1.1 0 2-.9 2-2V5c0-1.1-.9-2-2-2zM9 17H7v-7h2v7zm4 0h-2V7h2v10zm4 0h-2v-4h2v4z\"/>\n",
              "    </g>\n",
              "</svg>\n",
              "  </button>\n",
              "\n",
              "<style>\n",
              "  .colab-df-quickchart {\n",
              "      --bg-color: #E8F0FE;\n",
              "      --fill-color: #1967D2;\n",
              "      --hover-bg-color: #E2EBFA;\n",
              "      --hover-fill-color: #174EA6;\n",
              "      --disabled-fill-color: #AAA;\n",
              "      --disabled-bg-color: #DDD;\n",
              "  }\n",
              "\n",
              "  [theme=dark] .colab-df-quickchart {\n",
              "      --bg-color: #3B4455;\n",
              "      --fill-color: #D2E3FC;\n",
              "      --hover-bg-color: #434B5C;\n",
              "      --hover-fill-color: #FFFFFF;\n",
              "      --disabled-bg-color: #3B4455;\n",
              "      --disabled-fill-color: #666;\n",
              "  }\n",
              "\n",
              "  .colab-df-quickchart {\n",
              "    background-color: var(--bg-color);\n",
              "    border: none;\n",
              "    border-radius: 50%;\n",
              "    cursor: pointer;\n",
              "    display: none;\n",
              "    fill: var(--fill-color);\n",
              "    height: 32px;\n",
              "    padding: 0;\n",
              "    width: 32px;\n",
              "  }\n",
              "\n",
              "  .colab-df-quickchart:hover {\n",
              "    background-color: var(--hover-bg-color);\n",
              "    box-shadow: 0 1px 2px rgba(60, 64, 67, 0.3), 0 1px 3px 1px rgba(60, 64, 67, 0.15);\n",
              "    fill: var(--button-hover-fill-color);\n",
              "  }\n",
              "\n",
              "  .colab-df-quickchart-complete:disabled,\n",
              "  .colab-df-quickchart-complete:disabled:hover {\n",
              "    background-color: var(--disabled-bg-color);\n",
              "    fill: var(--disabled-fill-color);\n",
              "    box-shadow: none;\n",
              "  }\n",
              "\n",
              "  .colab-df-spinner {\n",
              "    border: 2px solid var(--fill-color);\n",
              "    border-color: transparent;\n",
              "    border-bottom-color: var(--fill-color);\n",
              "    animation:\n",
              "      spin 1s steps(1) infinite;\n",
              "  }\n",
              "\n",
              "  @keyframes spin {\n",
              "    0% {\n",
              "      border-color: transparent;\n",
              "      border-bottom-color: var(--fill-color);\n",
              "      border-left-color: var(--fill-color);\n",
              "    }\n",
              "    20% {\n",
              "      border-color: transparent;\n",
              "      border-left-color: var(--fill-color);\n",
              "      border-top-color: var(--fill-color);\n",
              "    }\n",
              "    30% {\n",
              "      border-color: transparent;\n",
              "      border-left-color: var(--fill-color);\n",
              "      border-top-color: var(--fill-color);\n",
              "      border-right-color: var(--fill-color);\n",
              "    }\n",
              "    40% {\n",
              "      border-color: transparent;\n",
              "      border-right-color: var(--fill-color);\n",
              "      border-top-color: var(--fill-color);\n",
              "    }\n",
              "    60% {\n",
              "      border-color: transparent;\n",
              "      border-right-color: var(--fill-color);\n",
              "    }\n",
              "    80% {\n",
              "      border-color: transparent;\n",
              "      border-right-color: var(--fill-color);\n",
              "      border-bottom-color: var(--fill-color);\n",
              "    }\n",
              "    90% {\n",
              "      border-color: transparent;\n",
              "      border-bottom-color: var(--fill-color);\n",
              "    }\n",
              "  }\n",
              "</style>\n",
              "\n",
              "  <script>\n",
              "    async function quickchart(key) {\n",
              "      const quickchartButtonEl =\n",
              "        document.querySelector('#' + key + ' button');\n",
              "      quickchartButtonEl.disabled = true;  // To prevent multiple clicks.\n",
              "      quickchartButtonEl.classList.add('colab-df-spinner');\n",
              "      try {\n",
              "        const charts = await google.colab.kernel.invokeFunction(\n",
              "            'suggestCharts', [key], {});\n",
              "      } catch (error) {\n",
              "        console.error('Error during call to suggestCharts:', error);\n",
              "      }\n",
              "      quickchartButtonEl.classList.remove('colab-df-spinner');\n",
              "      quickchartButtonEl.classList.add('colab-df-quickchart-complete');\n",
              "    }\n",
              "    (() => {\n",
              "      let quickchartButtonEl =\n",
              "        document.querySelector('#df-4f391447-d603-4bc5-ae71-2b53817b2ffc button');\n",
              "      quickchartButtonEl.style.display =\n",
              "        google.colab.kernel.accessAllowed ? 'block' : 'none';\n",
              "    })();\n",
              "  </script>\n",
              "</div>\n",
              "\n",
              "  <div id=\"id_0deb6e1f-1d21-4aae-9609-c6cbe9ca3657\">\n",
              "    <style>\n",
              "      .colab-df-generate {\n",
              "        background-color: #E8F0FE;\n",
              "        border: none;\n",
              "        border-radius: 50%;\n",
              "        cursor: pointer;\n",
              "        display: none;\n",
              "        fill: #1967D2;\n",
              "        height: 32px;\n",
              "        padding: 0 0 0 0;\n",
              "        width: 32px;\n",
              "      }\n",
              "\n",
              "      .colab-df-generate:hover {\n",
              "        background-color: #E2EBFA;\n",
              "        box-shadow: 0px 1px 2px rgba(60, 64, 67, 0.3), 0px 1px 3px 1px rgba(60, 64, 67, 0.15);\n",
              "        fill: #174EA6;\n",
              "      }\n",
              "\n",
              "      [theme=dark] .colab-df-generate {\n",
              "        background-color: #3B4455;\n",
              "        fill: #D2E3FC;\n",
              "      }\n",
              "\n",
              "      [theme=dark] .colab-df-generate:hover {\n",
              "        background-color: #434B5C;\n",
              "        box-shadow: 0px 1px 3px 1px rgba(0, 0, 0, 0.15);\n",
              "        filter: drop-shadow(0px 1px 2px rgba(0, 0, 0, 0.3));\n",
              "        fill: #FFFFFF;\n",
              "      }\n",
              "    </style>\n",
              "    <button class=\"colab-df-generate\" onclick=\"generateWithVariable('df_merged')\"\n",
              "            title=\"Generate code using this dataframe.\"\n",
              "            style=\"display:none;\">\n",
              "\n",
              "  <svg xmlns=\"http://www.w3.org/2000/svg\" height=\"24px\"viewBox=\"0 0 24 24\"\n",
              "       width=\"24px\">\n",
              "    <path d=\"M7,19H8.4L18.45,9,17,7.55,7,17.6ZM5,21V16.75L18.45,3.32a2,2,0,0,1,2.83,0l1.4,1.43a1.91,1.91,0,0,1,.58,1.4,1.91,1.91,0,0,1-.58,1.4L9.25,21ZM18.45,9,17,7.55Zm-12,3A5.31,5.31,0,0,0,4.9,8.1,5.31,5.31,0,0,0,1,6.5,5.31,5.31,0,0,0,4.9,4.9,5.31,5.31,0,0,0,6.5,1,5.31,5.31,0,0,0,8.1,4.9,5.31,5.31,0,0,0,12,6.5,5.46,5.46,0,0,0,6.5,12Z\"/>\n",
              "  </svg>\n",
              "    </button>\n",
              "    <script>\n",
              "      (() => {\n",
              "      const buttonEl =\n",
              "        document.querySelector('#id_0deb6e1f-1d21-4aae-9609-c6cbe9ca3657 button.colab-df-generate');\n",
              "      buttonEl.style.display =\n",
              "        google.colab.kernel.accessAllowed ? 'block' : 'none';\n",
              "\n",
              "      buttonEl.onclick = () => {\n",
              "        google.colab.notebook.generateWithVariable('df_merged');\n",
              "      }\n",
              "      })();\n",
              "    </script>\n",
              "  </div>\n",
              "\n",
              "    </div>\n",
              "  </div>\n"
            ],
            "text/plain": [
              "   EmployeeID Employee  DepartmentID DepartmentName\n",
              "0           1    Alice           101             HR\n",
              "1           2      Bob           102             IT\n",
              "2           3  Charlie           101             HR\n",
              "3           4    David           103        Finance\n",
              "4           5      Eva           102             IT"
            ]
          },
          "execution_count": 14,
          "metadata": {},
          "output_type": "execute_result"
        }
      ],
      "source": [
        "df_merged"
      ]
    },
    {
      "cell_type": "code",
      "execution_count": null,
      "metadata": {
        "colab": {
          "base_uri": "https://localhost:8080/",
          "height": 112
        },
        "id": "8QBrL-6uha86",
        "outputId": "9c7dfbd0-8b6c-44b7-dda8-3451b8d80a2e"
      },
      "outputs": [
        {
          "data": {
            "application/vnd.google.colaboratory.intrinsic+json": {
              "summary": "{\n  \"name\": \"df_merged\",\n  \"rows\": 2,\n  \"fields\": [\n    {\n      \"column\": \"EmployeeID\",\n      \"properties\": {\n        \"dtype\": \"number\",\n        \"std\": 2,\n        \"min\": 2,\n        \"max\": 5,\n        \"num_unique_values\": 2,\n        \"samples\": [\n          5,\n          2\n        ],\n        \"semantic_type\": \"\",\n        \"description\": \"\"\n      }\n    },\n    {\n      \"column\": \"Employee\",\n      \"properties\": {\n        \"dtype\": \"string\",\n        \"num_unique_values\": 2,\n        \"samples\": [\n          \"Eva\",\n          \"Bob\"\n        ],\n        \"semantic_type\": \"\",\n        \"description\": \"\"\n      }\n    },\n    {\n      \"column\": \"DepartmentID\",\n      \"properties\": {\n        \"dtype\": \"number\",\n        \"std\": 0,\n        \"min\": 102,\n        \"max\": 102,\n        \"num_unique_values\": 1,\n        \"samples\": [\n          102\n        ],\n        \"semantic_type\": \"\",\n        \"description\": \"\"\n      }\n    },\n    {\n      \"column\": \"DepartmentName\",\n      \"properties\": {\n        \"dtype\": \"string\",\n        \"num_unique_values\": 1,\n        \"samples\": [\n          \"IT\"\n        ],\n        \"semantic_type\": \"\",\n        \"description\": \"\"\n      }\n    }\n  ]\n}",
              "type": "dataframe"
            },
            "text/html": [
              "\n",
              "  <div id=\"df-3a556e16-fffe-4f20-a6f5-cac0df042e34\" class=\"colab-df-container\">\n",
              "    <div>\n",
              "<style scoped>\n",
              "    .dataframe tbody tr th:only-of-type {\n",
              "        vertical-align: middle;\n",
              "    }\n",
              "\n",
              "    .dataframe tbody tr th {\n",
              "        vertical-align: top;\n",
              "    }\n",
              "\n",
              "    .dataframe thead th {\n",
              "        text-align: right;\n",
              "    }\n",
              "</style>\n",
              "<table border=\"1\" class=\"dataframe\">\n",
              "  <thead>\n",
              "    <tr style=\"text-align: right;\">\n",
              "      <th></th>\n",
              "      <th>EmployeeID</th>\n",
              "      <th>Employee</th>\n",
              "      <th>DepartmentID</th>\n",
              "      <th>DepartmentName</th>\n",
              "    </tr>\n",
              "  </thead>\n",
              "  <tbody>\n",
              "    <tr>\n",
              "      <th>1</th>\n",
              "      <td>2</td>\n",
              "      <td>Bob</td>\n",
              "      <td>102</td>\n",
              "      <td>IT</td>\n",
              "    </tr>\n",
              "    <tr>\n",
              "      <th>4</th>\n",
              "      <td>5</td>\n",
              "      <td>Eva</td>\n",
              "      <td>102</td>\n",
              "      <td>IT</td>\n",
              "    </tr>\n",
              "  </tbody>\n",
              "</table>\n",
              "</div>\n",
              "    <div class=\"colab-df-buttons\">\n",
              "\n",
              "  <div class=\"colab-df-container\">\n",
              "    <button class=\"colab-df-convert\" onclick=\"convertToInteractive('df-3a556e16-fffe-4f20-a6f5-cac0df042e34')\"\n",
              "            title=\"Convert this dataframe to an interactive table.\"\n",
              "            style=\"display:none;\">\n",
              "\n",
              "  <svg xmlns=\"http://www.w3.org/2000/svg\" height=\"24px\" viewBox=\"0 -960 960 960\">\n",
              "    <path d=\"M120-120v-720h720v720H120Zm60-500h600v-160H180v160Zm220 220h160v-160H400v160Zm0 220h160v-160H400v160ZM180-400h160v-160H180v160Zm440 0h160v-160H620v160ZM180-180h160v-160H180v160Zm440 0h160v-160H620v160Z\"/>\n",
              "  </svg>\n",
              "    </button>\n",
              "\n",
              "  <style>\n",
              "    .colab-df-container {\n",
              "      display:flex;\n",
              "      gap: 12px;\n",
              "    }\n",
              "\n",
              "    .colab-df-convert {\n",
              "      background-color: #E8F0FE;\n",
              "      border: none;\n",
              "      border-radius: 50%;\n",
              "      cursor: pointer;\n",
              "      display: none;\n",
              "      fill: #1967D2;\n",
              "      height: 32px;\n",
              "      padding: 0 0 0 0;\n",
              "      width: 32px;\n",
              "    }\n",
              "\n",
              "    .colab-df-convert:hover {\n",
              "      background-color: #E2EBFA;\n",
              "      box-shadow: 0px 1px 2px rgba(60, 64, 67, 0.3), 0px 1px 3px 1px rgba(60, 64, 67, 0.15);\n",
              "      fill: #174EA6;\n",
              "    }\n",
              "\n",
              "    .colab-df-buttons div {\n",
              "      margin-bottom: 4px;\n",
              "    }\n",
              "\n",
              "    [theme=dark] .colab-df-convert {\n",
              "      background-color: #3B4455;\n",
              "      fill: #D2E3FC;\n",
              "    }\n",
              "\n",
              "    [theme=dark] .colab-df-convert:hover {\n",
              "      background-color: #434B5C;\n",
              "      box-shadow: 0px 1px 3px 1px rgba(0, 0, 0, 0.15);\n",
              "      filter: drop-shadow(0px 1px 2px rgba(0, 0, 0, 0.3));\n",
              "      fill: #FFFFFF;\n",
              "    }\n",
              "  </style>\n",
              "\n",
              "    <script>\n",
              "      const buttonEl =\n",
              "        document.querySelector('#df-3a556e16-fffe-4f20-a6f5-cac0df042e34 button.colab-df-convert');\n",
              "      buttonEl.style.display =\n",
              "        google.colab.kernel.accessAllowed ? 'block' : 'none';\n",
              "\n",
              "      async function convertToInteractive(key) {\n",
              "        const element = document.querySelector('#df-3a556e16-fffe-4f20-a6f5-cac0df042e34');\n",
              "        const dataTable =\n",
              "          await google.colab.kernel.invokeFunction('convertToInteractive',\n",
              "                                                    [key], {});\n",
              "        if (!dataTable) return;\n",
              "\n",
              "        const docLinkHtml = 'Like what you see? Visit the ' +\n",
              "          '<a target=\"_blank\" href=https://colab.research.google.com/notebooks/data_table.ipynb>data table notebook</a>'\n",
              "          + ' to learn more about interactive tables.';\n",
              "        element.innerHTML = '';\n",
              "        dataTable['output_type'] = 'display_data';\n",
              "        await google.colab.output.renderOutput(dataTable, element);\n",
              "        const docLink = document.createElement('div');\n",
              "        docLink.innerHTML = docLinkHtml;\n",
              "        element.appendChild(docLink);\n",
              "      }\n",
              "    </script>\n",
              "  </div>\n",
              "\n",
              "\n",
              "<div id=\"df-1e74a8e1-1b3d-49b9-bbb7-6eed801957b2\">\n",
              "  <button class=\"colab-df-quickchart\" onclick=\"quickchart('df-1e74a8e1-1b3d-49b9-bbb7-6eed801957b2')\"\n",
              "            title=\"Suggest charts\"\n",
              "            style=\"display:none;\">\n",
              "\n",
              "<svg xmlns=\"http://www.w3.org/2000/svg\" height=\"24px\"viewBox=\"0 0 24 24\"\n",
              "     width=\"24px\">\n",
              "    <g>\n",
              "        <path d=\"M19 3H5c-1.1 0-2 .9-2 2v14c0 1.1.9 2 2 2h14c1.1 0 2-.9 2-2V5c0-1.1-.9-2-2-2zM9 17H7v-7h2v7zm4 0h-2V7h2v10zm4 0h-2v-4h2v4z\"/>\n",
              "    </g>\n",
              "</svg>\n",
              "  </button>\n",
              "\n",
              "<style>\n",
              "  .colab-df-quickchart {\n",
              "      --bg-color: #E8F0FE;\n",
              "      --fill-color: #1967D2;\n",
              "      --hover-bg-color: #E2EBFA;\n",
              "      --hover-fill-color: #174EA6;\n",
              "      --disabled-fill-color: #AAA;\n",
              "      --disabled-bg-color: #DDD;\n",
              "  }\n",
              "\n",
              "  [theme=dark] .colab-df-quickchart {\n",
              "      --bg-color: #3B4455;\n",
              "      --fill-color: #D2E3FC;\n",
              "      --hover-bg-color: #434B5C;\n",
              "      --hover-fill-color: #FFFFFF;\n",
              "      --disabled-bg-color: #3B4455;\n",
              "      --disabled-fill-color: #666;\n",
              "  }\n",
              "\n",
              "  .colab-df-quickchart {\n",
              "    background-color: var(--bg-color);\n",
              "    border: none;\n",
              "    border-radius: 50%;\n",
              "    cursor: pointer;\n",
              "    display: none;\n",
              "    fill: var(--fill-color);\n",
              "    height: 32px;\n",
              "    padding: 0;\n",
              "    width: 32px;\n",
              "  }\n",
              "\n",
              "  .colab-df-quickchart:hover {\n",
              "    background-color: var(--hover-bg-color);\n",
              "    box-shadow: 0 1px 2px rgba(60, 64, 67, 0.3), 0 1px 3px 1px rgba(60, 64, 67, 0.15);\n",
              "    fill: var(--button-hover-fill-color);\n",
              "  }\n",
              "\n",
              "  .colab-df-quickchart-complete:disabled,\n",
              "  .colab-df-quickchart-complete:disabled:hover {\n",
              "    background-color: var(--disabled-bg-color);\n",
              "    fill: var(--disabled-fill-color);\n",
              "    box-shadow: none;\n",
              "  }\n",
              "\n",
              "  .colab-df-spinner {\n",
              "    border: 2px solid var(--fill-color);\n",
              "    border-color: transparent;\n",
              "    border-bottom-color: var(--fill-color);\n",
              "    animation:\n",
              "      spin 1s steps(1) infinite;\n",
              "  }\n",
              "\n",
              "  @keyframes spin {\n",
              "    0% {\n",
              "      border-color: transparent;\n",
              "      border-bottom-color: var(--fill-color);\n",
              "      border-left-color: var(--fill-color);\n",
              "    }\n",
              "    20% {\n",
              "      border-color: transparent;\n",
              "      border-left-color: var(--fill-color);\n",
              "      border-top-color: var(--fill-color);\n",
              "    }\n",
              "    30% {\n",
              "      border-color: transparent;\n",
              "      border-left-color: var(--fill-color);\n",
              "      border-top-color: var(--fill-color);\n",
              "      border-right-color: var(--fill-color);\n",
              "    }\n",
              "    40% {\n",
              "      border-color: transparent;\n",
              "      border-right-color: var(--fill-color);\n",
              "      border-top-color: var(--fill-color);\n",
              "    }\n",
              "    60% {\n",
              "      border-color: transparent;\n",
              "      border-right-color: var(--fill-color);\n",
              "    }\n",
              "    80% {\n",
              "      border-color: transparent;\n",
              "      border-right-color: var(--fill-color);\n",
              "      border-bottom-color: var(--fill-color);\n",
              "    }\n",
              "    90% {\n",
              "      border-color: transparent;\n",
              "      border-bottom-color: var(--fill-color);\n",
              "    }\n",
              "  }\n",
              "</style>\n",
              "\n",
              "  <script>\n",
              "    async function quickchart(key) {\n",
              "      const quickchartButtonEl =\n",
              "        document.querySelector('#' + key + ' button');\n",
              "      quickchartButtonEl.disabled = true;  // To prevent multiple clicks.\n",
              "      quickchartButtonEl.classList.add('colab-df-spinner');\n",
              "      try {\n",
              "        const charts = await google.colab.kernel.invokeFunction(\n",
              "            'suggestCharts', [key], {});\n",
              "      } catch (error) {\n",
              "        console.error('Error during call to suggestCharts:', error);\n",
              "      }\n",
              "      quickchartButtonEl.classList.remove('colab-df-spinner');\n",
              "      quickchartButtonEl.classList.add('colab-df-quickchart-complete');\n",
              "    }\n",
              "    (() => {\n",
              "      let quickchartButtonEl =\n",
              "        document.querySelector('#df-1e74a8e1-1b3d-49b9-bbb7-6eed801957b2 button');\n",
              "      quickchartButtonEl.style.display =\n",
              "        google.colab.kernel.accessAllowed ? 'block' : 'none';\n",
              "    })();\n",
              "  </script>\n",
              "</div>\n",
              "\n",
              "    </div>\n",
              "  </div>\n"
            ],
            "text/plain": [
              "   EmployeeID Employee  DepartmentID DepartmentName\n",
              "1           2      Bob           102             IT\n",
              "4           5      Eva           102             IT"
            ]
          },
          "execution_count": 23,
          "metadata": {},
          "output_type": "execute_result"
        }
      ],
      "source": [
        "df_merged.loc[df_merged['DepartmentName'] == 'IT']"
      ]
    },
    {
      "cell_type": "code",
      "execution_count": null,
      "metadata": {
        "id": "u7g2eXDnoOwP"
      },
      "outputs": [],
      "source": [
        "import numpy as np"
      ]
    },
    {
      "cell_type": "code",
      "execution_count": null,
      "metadata": {
        "id": "3ZbhHUzf4COa"
      },
      "outputs": [],
      "source": [
        "M1 = np.array([[1, 2], [3, 4]])\n",
        "M2 = np.array([[5, 6], [7, 8]])"
      ]
    },
    {
      "cell_type": "code",
      "execution_count": null,
      "metadata": {
        "id": "m1B75dV64E9g"
      },
      "outputs": [],
      "source": [
        "M3 = np.dot(M1, M2)"
      ]
    },
    {
      "cell_type": "code",
      "execution_count": null,
      "metadata": {
        "colab": {
          "base_uri": "https://localhost:8080/"
        },
        "id": "5wbryDse4Hnu",
        "outputId": "303648c3-de53-450c-c2a6-50fc2975f7f5"
      },
      "outputs": [
        {
          "data": {
            "text/plain": [
              "array([[19, 22],\n",
              "       [43, 50]])"
            ]
          },
          "execution_count": 27,
          "metadata": {},
          "output_type": "execute_result"
        }
      ],
      "source": [
        "M3"
      ]
    },
    {
      "cell_type": "code",
      "execution_count": null,
      "metadata": {
        "colab": {
          "base_uri": "https://localhost:8080/"
        },
        "id": "y3yzC2xg4IGp",
        "outputId": "3325b343-382d-4c6d-e7d4-ec95547445a2"
      },
      "outputs": [
        {
          "data": {
            "text/plain": [
              "array([[-20, -23],\n",
              "       [-44, -51]])"
            ]
          },
          "execution_count": 29,
          "metadata": {},
          "output_type": "execute_result"
        }
      ],
      "source": [
        "np.invert(M3)"
      ]
    },
    {
      "cell_type": "code",
      "execution_count": null,
      "metadata": {
        "id": "0ZwqeXYP4MiN"
      },
      "outputs": [],
      "source": [
        "M1 = np.array([[2, 4], [5, -7]])\n",
        "M2 = np.array([[6, 12], [10, -8]])"
      ]
    },
    {
      "cell_type": "code",
      "execution_count": null,
      "metadata": {
        "id": "YG1bjylz5OmX"
      },
      "outputs": [],
      "source": [
        "M3 = np.dot(M1, M2)"
      ]
    },
    {
      "cell_type": "code",
      "execution_count": null,
      "metadata": {
        "colab": {
          "base_uri": "https://localhost:8080/"
        },
        "id": "6C6LUPfh5P92",
        "outputId": "6ba2346a-6049-49b6-dc1f-74654d424170"
      },
      "outputs": [
        {
          "data": {
            "text/plain": [
              "array([[ 52,  -8],\n",
              "       [-40, 116]])"
            ]
          },
          "execution_count": 32,
          "metadata": {},
          "output_type": "execute_result"
        }
      ],
      "source": [
        "M3"
      ]
    },
    {
      "cell_type": "code",
      "execution_count": null,
      "metadata": {
        "id": "6I88OVcd5QlY"
      },
      "outputs": [],
      "source": [
        "M4 = np.linalg.inv(M3)"
      ]
    },
    {
      "cell_type": "code",
      "execution_count": null,
      "metadata": {
        "colab": {
          "base_uri": "https://localhost:8080/"
        },
        "id": "jncHXAKT5Yx_",
        "outputId": "b13d1697-bdf2-4cc8-b14f-49e254662ae4"
      },
      "outputs": [
        {
          "data": {
            "text/plain": [
              "array([[0.02030812, 0.00140056],\n",
              "       [0.0070028 , 0.00910364]])"
            ]
          },
          "execution_count": 34,
          "metadata": {},
          "output_type": "execute_result"
        }
      ],
      "source": [
        "M4"
      ]
    },
    {
      "cell_type": "code",
      "execution_count": null,
      "metadata": {
        "colab": {
          "base_uri": "https://localhost:8080/"
        },
        "id": "UF4nAfkN5Zkb",
        "outputId": "4d5297d3-5c50-4e3d-eade-feb3b6036f3d"
      },
      "outputs": [
        {
          "data": {
            "text/plain": [
              "array([[1., 1., 1.],\n",
              "       [1., 1., 1.],\n",
              "       [1., 1., 1.]])"
            ]
          },
          "execution_count": 35,
          "metadata": {},
          "output_type": "execute_result"
        }
      ],
      "source": [
        "np.ones([3,3])"
      ]
    },
    {
      "cell_type": "code",
      "execution_count": null,
      "metadata": {
        "id": "H-Q31nnh5mMB"
      },
      "outputs": [],
      "source": [
        "A1 = np.arange(1,21)"
      ]
    },
    {
      "cell_type": "code",
      "execution_count": null,
      "metadata": {
        "colab": {
          "base_uri": "https://localhost:8080/"
        },
        "id": "2C3YQIh75t3j",
        "outputId": "253c2b1e-d939-45b0-b94b-6b9eb73d98f6"
      },
      "outputs": [
        {
          "data": {
            "text/plain": [
              "array([ 1,  2,  3,  4,  5,  6,  7,  8,  9, 10, 11, 12, 13, 14, 15, 16, 17,\n",
              "       18, 19])"
            ]
          },
          "execution_count": 37,
          "metadata": {},
          "output_type": "execute_result"
        }
      ],
      "source": [
        "A1"
      ]
    },
    {
      "cell_type": "code",
      "execution_count": null,
      "metadata": {
        "colab": {
          "base_uri": "https://localhost:8080/"
        },
        "id": "UfJjcgV45u43",
        "outputId": "2cf6b79e-995f-410d-a036-34c8025dbb37"
      },
      "outputs": [
        {
          "data": {
            "text/plain": [
              "array([[ 1,  2,  3,  4,  5],\n",
              "       [ 6,  7,  8,  9, 10],\n",
              "       [11, 12, 13, 14, 15],\n",
              "       [16, 17, 18, 19, 20]])"
            ]
          },
          "execution_count": 40,
          "metadata": {},
          "output_type": "execute_result"
        }
      ],
      "source": [
        "A1.reshape(4,5)"
      ]
    },
    {
      "cell_type": "code",
      "execution_count": 111,
      "metadata": {},
      "outputs": [],
      "source": [
        "class Ship:\n",
        "    count = 0\n",
        "    def __init__(self, name, tonnage, year_built):\n",
        "        self.name = name\n",
        "        self.tonnage = tonnage\n",
        "        self.year_built = year_built\n",
        "    def say_hello(self):\n",
        "        print(\"Hello, my name is \" + self.name)\n",
        "    def increase_tonnage(self, amount):\n",
        "        self.tonnage += amount\n",
        " "
      ]
    },
    {
      "cell_type": "code",
      "execution_count": 112,
      "metadata": {},
      "outputs": [],
      "source": [
        "tanker = Ship(\"Tanker\", 50000, 1000) # construct the object Initialization!"
      ]
    },
    {
      "cell_type": "code",
      "execution_count": 102,
      "metadata": {},
      "outputs": [
        {
          "name": "stdout",
          "output_type": "stream",
          "text": [
            "Hello, my name is Tanker\n"
          ]
        }
      ],
      "source": [
        "tanker.say_hello()"
      ]
    },
    {
      "cell_type": "code",
      "execution_count": 103,
      "metadata": {},
      "outputs": [
        {
          "data": {
            "text/plain": [
              "'Tanker'"
            ]
          },
          "execution_count": 103,
          "metadata": {},
          "output_type": "execute_result"
        }
      ],
      "source": [
        "tanker.name"
      ]
    },
    {
      "cell_type": "code",
      "execution_count": 106,
      "metadata": {},
      "outputs": [
        {
          "data": {
            "text/plain": [
              "50000"
            ]
          },
          "execution_count": 106,
          "metadata": {},
          "output_type": "execute_result"
        }
      ],
      "source": [
        "tanker.tonnage"
      ]
    },
    {
      "cell_type": "code",
      "execution_count": 113,
      "metadata": {},
      "outputs": [],
      "source": [
        "tanker.increase_tonnage(1000)"
      ]
    },
    {
      "cell_type": "code",
      "execution_count": 115,
      "metadata": {},
      "outputs": [
        {
          "data": {
            "text/plain": [
              "51000"
            ]
          },
          "execution_count": 115,
          "metadata": {},
          "output_type": "execute_result"
        }
      ],
      "source": [
        "tanker.tonnage"
      ]
    }
  ],
  "metadata": {
    "colab": {
      "collapsed_sections": [
        "zdvD43SydTgh",
        "3nwCa1_nuH_J",
        "mRluSq7ovbzW",
        "G0xUYJDufduK",
        "v5ZwVC1YTkMd",
        "WOD-CYnfJMVJ",
        "UFA4h97thUbM",
        "EHLC3PuQ7_KG"
      ],
      "provenance": []
    },
    "kernelspec": {
      "display_name": ".venv",
      "language": "python",
      "name": "python3"
    },
    "language_info": {
      "codemirror_mode": {
        "name": "ipython",
        "version": 3
      },
      "file_extension": ".py",
      "mimetype": "text/x-python",
      "name": "python",
      "nbconvert_exporter": "python",
      "pygments_lexer": "ipython3",
      "version": "3.12.9"
    }
  },
  "nbformat": 4,
  "nbformat_minor": 0
}
